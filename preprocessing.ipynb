{
 "cells": [
  {
   "cell_type": "code",
   "execution_count": null,
   "metadata": {
    "collapsed": true
   },
   "outputs": [],
   "source": [
    "from os import getcwd, chdir, path, listdir\n",
    "import warnings\n",
    "import pickle\n",
    "%load_ext autoreload\n",
    "from importlib import reload\n",
    "import time\n",
    "warnings.filterwarnings(\"ignore\")\n",
    "\n",
    "chdir(\n",
    "    path.join(\n",
    "        path.expanduser('~'), \n",
    "        'PycharmProjects', \n",
    "        'DiplomaThesis'\n",
    "    )\n",
    ")\n",
    "print(getcwd())"
   ]
  },
  {
   "cell_type": "code",
   "execution_count": null,
   "metadata": {},
   "outputs": [],
   "source": [
    "import sql_handler\n",
    "import User\n",
    "import Category\n",
    "import Deal\n",
    "import Event\n",
    "import Partner\n",
    "import config\n",
    "import vector\n",
    "import lstm\n",
    "\n",
    "reload(lstm)\n",
    "reload(Category)\n",
    "reload(Event)\n",
    "reload(Deal)\n",
    "reload(Partner)\n",
    "reload(sql_handler)\n",
    "reload(User)\n",
    "reload(config)\n",
    "reload(vector)"
   ]
  },
  {
   "cell_type": "markdown",
   "metadata": {},
   "source": [
    "Count outlier limits ['low', 'high'] for user event amounts\n",
    "\n",
    "According to the formula:\n",
    "\tLower limit = Fixed to minumum cfg.user_event_amount_minimum\n",
    "\tUpper limit = Q3 + 1.5*IQR (general outlier formula, counted from cookies records with > cfg.user_event_amount_minimum) "
   ]
  },
  {
   "cell_type": "code",
   "execution_count": null,
   "metadata": {},
   "outputs": [],
   "source": [
    "User.count_and_save_outlier_borders()"
   ]
  },
  {
   "cell_type": "markdown",
   "metadata": {},
   "source": [
    "Create and save Deals\n",
    "\t-save list of unique deal_id(s) from user events(targeting deals)\n",
    "\t-save deal objects as dictionary hashing under deal_id for fast lookup\n",
    " \t"
   ]
  },
  {
   "cell_type": "code",
   "execution_count": null,
   "metadata": {},
   "outputs": [],
   "source": [
    "Deal.save_all_used_deal_ids()\n",
    "print(len(Deal.load_all_used_deal_ids()))\n",
    "\n",
    "Deal.create_and_save_all_deals()"
   ]
  },
  {
   "cell_type": "markdown",
   "metadata": {},
   "source": [
    "Create and save Categories\n",
    "\t\t\n",
    "\t-save list of unique category_id(s)\n",
    "\t-save category objects as dictionary hashing under category_id\n",
    " \t"
   ]
  },
  {
   "cell_type": "code",
   "execution_count": null,
   "metadata": {},
   "outputs": [],
   "source": [
    "Category.Category.create_and_save_categories()"
   ]
  },
  {
   "cell_type": "markdown",
   "metadata": {},
   "source": [
    "Define event type medians\n",
    "\tEach event type has counted median event duration value in seconds from defined amount of cookies.\n",
    "\tValues are used to substitute from missing values in last session event (>1800s) and last user event in records.\n",
    "\tEvent type medians are saved into file defined in config as a dictionary hashing durations under event type names.\n",
    "\n",
    "\tThis takes a LONG time and you have probably been provided with the \".dict\" file already."
   ]
  },
  {
   "cell_type": "code",
   "execution_count": null,
   "metadata": {},
   "outputs": [],
   "source": [
    "categories = Category.Category.load_categories()\n",
    "deals = Deal.load_all_deals()\n",
    "\n",
    "User.count_and_save_event_medians(cookie_limit=1000000, categories=categories, deals=deals)\n",
    "User.load_event_medians(debug=True)"
   ]
  },
  {
   "cell_type": "markdown",
   "metadata": {},
   "source": [
    "Create and save Partners\n",
    "\t\n",
    "\t-save list of unique partner_id(s)\n",
    "\t-save partner objects as dictionary hashing under partner_id"
   ]
  },
  {
   "cell_type": "code",
   "execution_count": null,
   "metadata": {},
   "outputs": [],
   "source": [
    "Partner.create_and_save_partners()"
   ]
  },
  {
   "cell_type": "markdown",
   "metadata": {},
   "source": [
    "Create and save User objects\n",
    "\tusers are saved in a batches of amount(defined in config.pickle_wrap_amount) in 'users' dir"
   ]
  },
  {
   "cell_type": "code",
   "execution_count": null,
   "metadata": {},
   "outputs": [],
   "source": [
    "raw_user_creation_start = time.time()\n",
    "User.create_and_save_all_users()\n",
    "raw_user_creation_end = time.time()\n",
    "print('Total time for creating users: {}'.format(\n",
    "    str(raw_user_creation_end-raw_user_creation_start))\n",
    ")"
   ]
  },
  {
   "cell_type": "markdown",
   "metadata": {},
   "source": [
    "Save a dictionary of normalization values for specific features.\n",
    "\tOutlier amounts are fetched on the Postgres database side by counting 1st and 3rd quartile.\n",
    "\tNormalization of features is according to the formula:\n",
    "\t\n",
    "\t(float(value) - min_value) / (max_value - min_value)\n",
    "\t\n",
    "\twhere:\n",
    "\t\tvalue = value to normalize\n",
    "\t\tmin_value = bottom outlier value\n",
    "\t\tmax_value = top outlier value\n",
    "\t\n",
    "\toutlier values are counted according to the general outlier formula:\n",
    "\t\n",
    "\t\tLower limit = Q1 - 1.5*IQR\n",
    "\t\tUpper limit = Q3 + 1.5*IQR\n",
    "\t\n",
    "\t*sometimes upper or lower limit is overridden by case-specific value\n",
    "\t(for example upper limit on rating of partner is 5.0 as fixed by amount of stars possible)\n",
    "\t\n",
    "\t"
   ]
  },
  {
   "cell_type": "code",
   "execution_count": null,
   "metadata": {},
   "outputs": [],
   "source": [
    "vector.save_normalization_values()"
   ]
  },
  {
   "cell_type": "markdown",
   "metadata": {},
   "source": [
    "Pre-fetch partners for input and target vectors\n",
    "\n",
    "\tTotal dataset partners: ~7000\n",
    "\tSelect only partners in filtered user events to make vectors more sparse\n",
    "\n",
    "\tResult:\n",
    "\t\t~2000 for target vectors\n",
    "\t\t~3600 for input vectors\n",
    "\t\n",
    "\tInputs contain wider variety of partners because there is ~timesteps*amount_of_users events for partners to be in\n",
    "\tTarget vectors only contain ~amount_of_users amount of events, thus less unique partner IDs"
   ]
  },
  {
   "cell_type": "code",
   "execution_count": null,
   "metadata": {},
   "outputs": [],
   "source": [
    "deals = Deal.load_all_deals()\n",
    "partners = Partner.load_all_partners()\n",
    "categories = Category.Category.load_categories()\n",
    "\n",
    "users = []\n",
    "for filename in listdir(path.join(getcwd(), config.dir_users)):\n",
    "    \n",
    "    with open(path.join(getcwd(), config.dir_users, filename), 'rb') as user_file:\n",
    "        users += pickle.load(user_file)\n",
    "\n",
    "input_partners, users_with_found_input_partners = User.get_input_partner_ids(users, deals, partners)\n",
    "target_partners, users_with_found_target_partners = User.get_target_partner_ids(users, deals, partners)\n",
    "\n",
    "\n",
    "print(len(target_partners))\n",
    "print(len(input_partners))\n",
    "print(users_with_found_input_partners)\n",
    "print(users_with_found_target_partners)"
   ]
  },
  {
   "cell_type": "markdown",
   "metadata": {},
   "source": [
    "Create vectors and store them by the config.pickle_wrap_amount\n",
    "\tIf less than pickle is stored(95%-100%) it is because some users had no event with targetable partner in the second split part of events\n",
    "\tDataset should retain 98-99% of users in form of vectors with 10 target-source events. \n",
    "\tMore target-source events per user --> lower percentual dropout"
   ]
  },
  {
   "cell_type": "code",
   "execution_count": null,
   "metadata": {},
   "outputs": [],
   "source": [
    "n_vectors_created = 0\n",
    "\n",
    "for filename in listdir(path.join(getcwd(), config.dir_users)):\n",
    "    print(path.join(getcwd(), config.dir_users, filename))\n",
    "    n_vectors_created += vector.create_userfile_vectors(\n",
    "        filename, \n",
    "        deals, \n",
    "        partners, \n",
    "        categories, \n",
    "        input_partners, \n",
    "        target_partners\n",
    "    )\n",
    "\n",
    "print(f'Created {n_vectors_created} user vectors from users')"
   ]
  },
  {
   "cell_type": "markdown",
   "metadata": {},
   "source": [
    "Sort vectors into separate directory by target partner(class)\n",
    "\tdirectory differs based on using or not using partner one-hot-subvector on input vectors"
   ]
  },
  {
   "cell_type": "code",
   "execution_count": null,
   "metadata": {},
   "outputs": [],
   "source": [
    "vector.sort_and_save_vectors_by_target_partners(target_partners)"
   ]
  }
 ],
 "metadata": {
  "kernelspec": {
   "display_name": "Python 2",
   "language": "python",
   "name": "python2"
  },
  "language_info": {
   "codemirror_mode": {
    "name": "ipython",
    "version": 2
   },
   "file_extension": ".py",
   "mimetype": "text/x-python",
   "name": "python",
   "nbconvert_exporter": "python",
   "pygments_lexer": "ipython2",
   "version": "2.7.6"
  }
 },
 "nbformat": 4,
 "nbformat_minor": 0
}
