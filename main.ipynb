{
 "cells": [
  {
   "cell_type": "code",
   "execution_count": 1,
   "metadata": {},
   "outputs": [
    {
     "name": "stdout",
     "output_type": "stream",
     "text": [
      "/Users/michalfasanek/PycharmProjects/DiplomaThesis\n"
     ]
    }
   ],
   "source": [
    "from os import getcwd, chdir, path, listdir\n",
    "import warnings\n",
    "import pickle\n",
    "%load_ext autoreload\n",
    "from importlib import reload\n",
    "import time\n",
    "warnings.filterwarnings(\"ignore\")\n",
    "\n",
    "chdir(\n",
    "    path.join(\n",
    "        path.expanduser('~'), \n",
    "        'PycharmProjects', \n",
    "        'DiplomaThesis'\n",
    "    )\n",
    ")\n",
    "print(getcwd())"
   ]
  },
  {
   "cell_type": "code",
   "execution_count": 2,
   "metadata": {
    "collapsed": true
   },
   "outputs": [
    {
     "data": {
      "text/plain": [
       "<module 'vector' from '/Users/michalfasanek/PycharmProjects/DiplomaThesis/vector.py'>"
      ]
     },
     "execution_count": 2,
     "metadata": {},
     "output_type": "execute_result"
    }
   ],
   "source": [
    "import sql_handler\n",
    "import User\n",
    "import Category\n",
    "import Deal\n",
    "import Event\n",
    "import Partner\n",
    "import config\n",
    "import vector\n",
    "import lstm\n",
    "\n",
    "reload(lstm)\n",
    "reload(Category)\n",
    "reload(Event)\n",
    "reload(Deal)\n",
    "reload(Partner)\n",
    "reload(sql_handler)\n",
    "reload(User)\n",
    "reload(config)\n",
    "reload(vector)"
   ]
  },
  {
   "cell_type": "markdown",
   "metadata": {},
   "source": [
    "Count outlier limits ['low', 'high'] for user event amounts\n",
    "\n",
    "According to the formula:\n",
    "\tLower limit = Q1 - 1.5*IQR\n",
    "\tUpper limit = Q3 + 1.5*IQR"
   ]
  },
  {
   "cell_type": "code",
   "execution_count": 4,
   "metadata": {
    "collapsed": true
   },
   "outputs": [
    {
     "name": "stdout",
     "output_type": "stream",
     "text": [
      "{'low': 50, 'high': 297.5}\n"
     ]
    }
   ],
   "source": [
    "User.count_and_save_outlier_borders()"
   ]
  },
  {
   "cell_type": "markdown",
   "metadata": {},
   "source": [
    "Create and save Deals\n",
    "\tsave list of unique deal_id(s) from user events(targeting deals)\n",
    "\tsave deal objects as dictionary hashing under deal_id\n",
    " \t"
   ]
  },
  {
   "cell_type": "code",
   "execution_count": 7,
   "metadata": {},
   "outputs": [
    {
     "name": "stdout",
     "output_type": "stream",
     "text": [
      "28963\n"
     ]
    }
   ],
   "source": [
    "Deal.save_all_used_deal_ids()\n",
    "print(len(Deal.load_all_used_deal_ids()))"
   ]
  },
  {
   "cell_type": "code",
   "execution_count": 8,
   "metadata": {
    "collapsed": true
   },
   "outputs": [
    {
     "name": "stdout",
     "output_type": "stream",
     "text": [
      "Did not fetch exactly one row for deal ID 12245!\n"
     ]
    },
    {
     "name": "stdout",
     "output_type": "stream",
     "text": [
      "Did not fetch exactly one row for deal ID 12945!\n"
     ]
    },
    {
     "name": "stdout",
     "output_type": "stream",
     "text": [
      "Did not fetch exactly one row for deal ID 14635!\n"
     ]
    },
    {
     "name": "stdout",
     "output_type": "stream",
     "text": [
      "Did not fetch exactly one row for deal ID 18791!\n"
     ]
    },
    {
     "name": "stdout",
     "output_type": "stream",
     "text": [
      "Did not fetch exactly one row for deal ID 27713!\n"
     ]
    },
    {
     "name": "stdout",
     "output_type": "stream",
     "text": [
      "Did not fetch exactly one row for deal ID 28963!\n"
     ]
    },
    {
     "name": "stdout",
     "output_type": "stream",
     "text": [
      "Did not fetch exactly one row for deal ID 30645!\n"
     ]
    },
    {
     "name": "stdout",
     "output_type": "stream",
     "text": [
      "Did not fetch exactly one row for deal ID 40093!\n"
     ]
    },
    {
     "name": "stdout",
     "output_type": "stream",
     "text": [
      "Did not fetch exactly one row for deal ID 43635!\n"
     ]
    },
    {
     "name": "stdout",
     "output_type": "stream",
     "text": [
      "Did not fetch exactly one row for deal ID 58347!\n"
     ]
    },
    {
     "name": "stdout",
     "output_type": "stream",
     "text": [
      "Did not fetch exactly one row for deal ID 65299!\n"
     ]
    },
    {
     "name": "stdout",
     "output_type": "stream",
     "text": [
      "Did not fetch exactly one row for deal ID 66391!\n"
     ]
    },
    {
     "name": "stdout",
     "output_type": "stream",
     "text": [
      "Did not fetch exactly one row for deal ID 68047!\n"
     ]
    },
    {
     "name": "stdout",
     "output_type": "stream",
     "text": [
      "Did not fetch exactly one row for deal ID 76087!\n"
     ]
    },
    {
     "name": "stdout",
     "output_type": "stream",
     "text": [
      "Did not fetch exactly one row for deal ID 85409!\n"
     ]
    },
    {
     "name": "stdout",
     "output_type": "stream",
     "text": [
      "Did not fetch exactly one row for deal ID 85757!\n"
     ]
    },
    {
     "name": "stdout",
     "output_type": "stream",
     "text": [
      "Did not fetch exactly one row for deal ID 94939!\n"
     ]
    },
    {
     "name": "stdout",
     "output_type": "stream",
     "text": [
      "Did not fetch exactly one row for deal ID 98577!\n"
     ]
    },
    {
     "name": "stdout",
     "output_type": "stream",
     "text": [
      "Did not fetch exactly one row for deal ID 100657!\n"
     ]
    },
    {
     "name": "stdout",
     "output_type": "stream",
     "text": [
      "Did not fetch exactly one row for deal ID 105079!\n"
     ]
    },
    {
     "name": "stdout",
     "output_type": "stream",
     "text": [
      "Did not fetch exactly one row for deal ID 105563!\nDid not fetch exactly one row for deal ID 105729!\n"
     ]
    },
    {
     "name": "stdout",
     "output_type": "stream",
     "text": [
      "Did not fetch exactly one row for deal ID 113495!\n"
     ]
    },
    {
     "name": "stdout",
     "output_type": "stream",
     "text": [
      "Did not fetch exactly one row for deal ID 114593!\n"
     ]
    },
    {
     "name": "stdout",
     "output_type": "stream",
     "text": [
      "Did not fetch exactly one row for deal ID 118319!\n"
     ]
    },
    {
     "name": "stdout",
     "output_type": "stream",
     "text": [
      "Did not fetch exactly one row for deal ID 125647!\n"
     ]
    },
    {
     "name": "stdout",
     "output_type": "stream",
     "text": [
      "Did not fetch exactly one row for deal ID 128211!\n"
     ]
    },
    {
     "name": "stdout",
     "output_type": "stream",
     "text": [
      "Did not fetch exactly one row for deal ID 130181!\n"
     ]
    },
    {
     "name": "stdout",
     "output_type": "stream",
     "text": [
      "Did not fetch exactly one row for deal ID 149655!\n"
     ]
    },
    {
     "name": "stdout",
     "output_type": "stream",
     "text": [
      "Did not fetch exactly one row for deal ID 156385!\n"
     ]
    },
    {
     "name": "stdout",
     "output_type": "stream",
     "text": [
      "Did not fetch exactly one row for deal ID 157973!\n"
     ]
    },
    {
     "name": "stdout",
     "output_type": "stream",
     "text": [
      "Did not fetch exactly one row for deal ID 158541!\n"
     ]
    },
    {
     "name": "stdout",
     "output_type": "stream",
     "text": [
      "Did not fetch exactly one row for deal ID 163941!\n"
     ]
    },
    {
     "name": "stdout",
     "output_type": "stream",
     "text": [
      "Did not fetch exactly one row for deal ID 170491!\n"
     ]
    },
    {
     "name": "stdout",
     "output_type": "stream",
     "text": [
      "Did not fetch exactly one row for deal ID 174891!\n"
     ]
    },
    {
     "name": "stdout",
     "output_type": "stream",
     "text": [
      "Did not fetch exactly one row for deal ID 181601!\n"
     ]
    },
    {
     "name": "stdout",
     "output_type": "stream",
     "text": [
      "Did not fetch exactly one row for deal ID 181911!\n"
     ]
    },
    {
     "name": "stdout",
     "output_type": "stream",
     "text": [
      "Did not fetch exactly one row for deal ID 183389!\n"
     ]
    },
    {
     "name": "stdout",
     "output_type": "stream",
     "text": [
      "Did not fetch exactly one row for deal ID 186913!\n"
     ]
    },
    {
     "name": "stdout",
     "output_type": "stream",
     "text": [
      "Did not fetch exactly one row for deal ID 187081!\n"
     ]
    },
    {
     "name": "stdout",
     "output_type": "stream",
     "text": [
      "Did not fetch exactly one row for deal ID 187349!\n"
     ]
    },
    {
     "name": "stdout",
     "output_type": "stream",
     "text": [
      "Did not fetch exactly one row for deal ID 191737!\nDid not fetch exactly one row for deal ID 191745!\n"
     ]
    },
    {
     "name": "stdout",
     "output_type": "stream",
     "text": [
      "Did not fetch exactly one row for deal ID 211065!\n"
     ]
    },
    {
     "name": "stdout",
     "output_type": "stream",
     "text": [
      "Did not fetch exactly one row for deal ID 193943!\n"
     ]
    },
    {
     "name": "stdout",
     "output_type": "stream",
     "text": [
      "Did not fetch exactly one row for deal ID 194997!\n"
     ]
    },
    {
     "name": "stdout",
     "output_type": "stream",
     "text": [
      "Did not fetch exactly one row for deal ID 195467!\n"
     ]
    },
    {
     "name": "stdout",
     "output_type": "stream",
     "text": [
      "Did not fetch exactly one row for deal ID 196155!\n"
     ]
    },
    {
     "name": "stdout",
     "output_type": "stream",
     "text": [
      "Did not fetch exactly one row for deal ID 196859!\n"
     ]
    },
    {
     "name": "stdout",
     "output_type": "stream",
     "text": [
      "Did not fetch exactly one row for deal ID 197237!\n"
     ]
    },
    {
     "name": "stdout",
     "output_type": "stream",
     "text": [
      "Did not fetch exactly one row for deal ID 197341!\n"
     ]
    },
    {
     "name": "stdout",
     "output_type": "stream",
     "text": [
      "Did not fetch exactly one row for deal ID 199555!\n"
     ]
    },
    {
     "name": "stdout",
     "output_type": "stream",
     "text": [
      "Did not fetch exactly one row for deal ID 199749!\n"
     ]
    },
    {
     "name": "stdout",
     "output_type": "stream",
     "text": [
      "Did not fetch exactly one row for deal ID 200453!\nDid not fetch exactly one row for deal ID 200457!\n"
     ]
    },
    {
     "name": "stdout",
     "output_type": "stream",
     "text": [
      "Did not fetch exactly one row for deal ID 200743!\n"
     ]
    },
    {
     "name": "stdout",
     "output_type": "stream",
     "text": [
      "Did not fetch exactly one row for deal ID 202157!\n"
     ]
    },
    {
     "name": "stdout",
     "output_type": "stream",
     "text": [
      "Did not fetch exactly one row for deal ID 210039!\n"
     ]
    },
    {
     "name": "stdout",
     "output_type": "stream",
     "text": [
      "Did not fetch exactly one row for deal ID 203491!\nDid not fetch exactly one row for deal ID 203517!\n"
     ]
    },
    {
     "name": "stdout",
     "output_type": "stream",
     "text": [
      "Did not fetch exactly one row for deal ID 203735!\nDid not fetch exactly one row for deal ID 203767!\n"
     ]
    },
    {
     "name": "stdout",
     "output_type": "stream",
     "text": [
      "Did not fetch exactly one row for deal ID 204075!\nDid not fetch exactly one row for deal ID 204113!\nDid not fetch exactly one row for deal ID 204121!\n"
     ]
    },
    {
     "name": "stdout",
     "output_type": "stream",
     "text": [
      "Did not fetch exactly one row for deal ID 204345!\n"
     ]
    },
    {
     "name": "stdout",
     "output_type": "stream",
     "text": [
      "Did not fetch exactly one row for deal ID 204885!\nDid not fetch exactly one row for deal ID 204893!\n"
     ]
    },
    {
     "name": "stdout",
     "output_type": "stream",
     "text": [
      "Did not fetch exactly one row for deal ID 205397!\n"
     ]
    },
    {
     "name": "stdout",
     "output_type": "stream",
     "text": [
      "Did not fetch exactly one row for deal ID 206069!\nDid not fetch exactly one row for deal ID 206263!\n"
     ]
    },
    {
     "name": "stdout",
     "output_type": "stream",
     "text": [
      "Did not fetch exactly one row for deal ID 206635!\nDid not fetch exactly one row for deal ID 206641!\n"
     ]
    },
    {
     "name": "stdout",
     "output_type": "stream",
     "text": [
      "Did not fetch exactly one row for deal ID 207045!\nDid not fetch exactly one row for deal ID 207051!\nDid not fetch exactly one row for deal ID 207065!\n"
     ]
    },
    {
     "name": "stdout",
     "output_type": "stream",
     "text": [
      "Did not fetch exactly one row for deal ID 207271!\n"
     ]
    },
    {
     "name": "stdout",
     "output_type": "stream",
     "text": [
      "Did not fetch exactly one row for deal ID 207499!\n"
     ]
    },
    {
     "name": "stdout",
     "output_type": "stream",
     "text": [
      "Did not fetch exactly one row for deal ID 207907!\n"
     ]
    },
    {
     "name": "stdout",
     "output_type": "stream",
     "text": [
      "Did not fetch exactly one row for deal ID 208227!\nDid not fetch exactly one row for deal ID 208294!\n"
     ]
    },
    {
     "name": "stdout",
     "output_type": "stream",
     "text": [
      "Did not fetch exactly one row for deal ID 208663!\n"
     ]
    },
    {
     "name": "stdout",
     "output_type": "stream",
     "text": [
      "Did not fetch exactly one row for deal ID 209069!\n"
     ]
    },
    {
     "name": "stdout",
     "output_type": "stream",
     "text": [
      "Did not fetch exactly one row for deal ID 209225!\n"
     ]
    },
    {
     "name": "stdout",
     "output_type": "stream",
     "text": [
      "Did not fetch exactly one row for deal ID 210085!\n"
     ]
    },
    {
     "name": "stdout",
     "output_type": "stream",
     "text": [
      "Did not fetch exactly one row for deal ID 210429!\nDid not fetch exactly one row for deal ID 211079!\n"
     ]
    },
    {
     "name": "stdout",
     "output_type": "stream",
     "text": [
      "Did not fetch exactly one row for deal ID 210661!\nDid not fetch exactly one row for deal ID 210667!\n"
     ]
    },
    {
     "name": "stdout",
     "output_type": "stream",
     "text": [
      "Did not fetch exactly one row for deal ID 211077!\n"
     ]
    },
    {
     "name": "stdout",
     "output_type": "stream",
     "text": [
      "Did not fetch exactly one row for deal ID 211415!\nDid not fetch exactly one row for deal ID 211459!\n"
     ]
    },
    {
     "name": "stdout",
     "output_type": "stream",
     "text": [
      "Did not fetch exactly one row for deal ID 213013!\nDid not fetch exactly one row for deal ID 213101!\n"
     ]
    },
    {
     "name": "stdout",
     "output_type": "stream",
     "text": [
      "Did not fetch exactly one row for deal ID 213521!\n"
     ]
    },
    {
     "name": "stdout",
     "output_type": "stream",
     "text": [
      "Did not fetch exactly one row for deal ID 215057!\n"
     ]
    },
    {
     "name": "stdout",
     "output_type": "stream",
     "text": [
      "Did not fetch exactly one row for deal ID 215331!\nDid not fetch exactly one row for deal ID 215371!\n"
     ]
    },
    {
     "name": "stdout",
     "output_type": "stream",
     "text": [
      "Did not fetch exactly one row for deal ID 216091!\n"
     ]
    },
    {
     "name": "stdout",
     "output_type": "stream",
     "text": [
      "Did not fetch exactly one row for deal ID 217695!\n"
     ]
    },
    {
     "name": "stdout",
     "output_type": "stream",
     "text": [
      "Did not fetch exactly one row for deal ID 217944!\n"
     ]
    },
    {
     "name": "stdout",
     "output_type": "stream",
     "text": [
      "Did not fetch exactly one row for deal ID 218109!\n"
     ]
    },
    {
     "name": "stdout",
     "output_type": "stream",
     "text": [
      "Did not fetch exactly one row for deal ID 218455!\n"
     ]
    },
    {
     "name": "stdout",
     "output_type": "stream",
     "text": [
      "Did not fetch exactly one row for deal ID 219213!\n"
     ]
    },
    {
     "name": "stdout",
     "output_type": "stream",
     "text": [
      "Did not fetch exactly one row for deal ID 219525!\n"
     ]
    },
    {
     "name": "stdout",
     "output_type": "stream",
     "text": [
      "Did not fetch exactly one row for deal ID 219971!\n"
     ]
    },
    {
     "name": "stdout",
     "output_type": "stream",
     "text": [
      "Did not fetch exactly one row for deal ID 224719!\n"
     ]
    },
    {
     "name": "stdout",
     "output_type": "stream",
     "text": [
      "Did not fetch exactly one row for deal ID 220609!\n"
     ]
    },
    {
     "name": "stdout",
     "output_type": "stream",
     "text": [
      "Did not fetch exactly one row for deal ID 220735!\n"
     ]
    },
    {
     "name": "stdout",
     "output_type": "stream",
     "text": [
      "Did not fetch exactly one row for deal ID 221159!\n"
     ]
    },
    {
     "name": "stdout",
     "output_type": "stream",
     "text": [
      "Did not fetch exactly one row for deal ID 221749!\nDid not fetch exactly one row for deal ID 221825!\nDid not fetch exactly one row for deal ID 221831!\nDid not fetch exactly one row for deal ID 221849!\nDid not fetch exactly one row for deal ID 221855!\n"
     ]
    },
    {
     "name": "stdout",
     "output_type": "stream",
     "text": [
      "Did not fetch exactly one row for deal ID 231049!\n"
     ]
    },
    {
     "name": "stdout",
     "output_type": "stream",
     "text": [
      "Did not fetch exactly one row for deal ID 222667!\nDid not fetch exactly one row for deal ID 222687!\nDid not fetch exactly one row for deal ID 222941!\n"
     ]
    },
    {
     "name": "stdout",
     "output_type": "stream",
     "text": [
      "Did not fetch exactly one row for deal ID 222895!\nDid not fetch exactly one row for deal ID 222903!\nDid not fetch exactly one row for deal ID 222989!\nDid not fetch exactly one row for deal ID 222991!\n"
     ]
    },
    {
     "name": "stdout",
     "output_type": "stream",
     "text": [
      "Did not fetch exactly one row for deal ID 224065!\n"
     ]
    },
    {
     "name": "stdout",
     "output_type": "stream",
     "text": [
      "Did not fetch exactly one row for deal ID 224207!\nDid not fetch exactly one row for deal ID 224252!\n"
     ]
    },
    {
     "name": "stdout",
     "output_type": "stream",
     "text": [
      "Did not fetch exactly one row for deal ID 224743!\nDid not fetch exactly one row for deal ID 224763!\n"
     ]
    },
    {
     "name": "stdout",
     "output_type": "stream",
     "text": [
      "Did not fetch exactly one row for deal ID 231061!\n"
     ]
    },
    {
     "name": "stdout",
     "output_type": "stream",
     "text": [
      "Did not fetch exactly one row for deal ID 225237!\nDid not fetch exactly one row for deal ID 231206!\n"
     ]
    },
    {
     "name": "stdout",
     "output_type": "stream",
     "text": [
      "Did not fetch exactly one row for deal ID 225677!\n"
     ]
    },
    {
     "name": "stdout",
     "output_type": "stream",
     "text": [
      "Did not fetch exactly one row for deal ID 226117!\n"
     ]
    },
    {
     "name": "stdout",
     "output_type": "stream",
     "text": [
      "Did not fetch exactly one row for deal ID 227218!\n"
     ]
    },
    {
     "name": "stdout",
     "output_type": "stream",
     "text": [
      "Did not fetch exactly one row for deal ID 227413!\nDid not fetch exactly one row for deal ID 227451!\nDid not fetch exactly one row for deal ID 227539!\n"
     ]
    },
    {
     "name": "stdout",
     "output_type": "stream",
     "text": [
      "Did not fetch exactly one row for deal ID 227722!\n"
     ]
    },
    {
     "name": "stdout",
     "output_type": "stream",
     "text": [
      "Did not fetch exactly one row for deal ID 227919!\nDid not fetch exactly one row for deal ID 227967!\n"
     ]
    },
    {
     "name": "stdout",
     "output_type": "stream",
     "text": [
      "Did not fetch exactly one row for deal ID 228171!\n"
     ]
    },
    {
     "name": "stdout",
     "output_type": "stream",
     "text": [
      "Did not fetch exactly one row for deal ID 228393!\nDid not fetch exactly one row for deal ID 228421!\nDid not fetch exactly one row for deal ID 228427!\n"
     ]
    },
    {
     "name": "stdout",
     "output_type": "stream",
     "text": [
      "Did not fetch exactly one row for deal ID 228556!\nDid not fetch exactly one row for deal ID 228659!\n"
     ]
    },
    {
     "name": "stdout",
     "output_type": "stream",
     "text": [
      "Did not fetch exactly one row for deal ID 228756!\nDid not fetch exactly one row for deal ID 228849!\n"
     ]
    },
    {
     "name": "stdout",
     "output_type": "stream",
     "text": [
      "Did not fetch exactly one row for deal ID 228906!\n"
     ]
    },
    {
     "name": "stdout",
     "output_type": "stream",
     "text": [
      "Did not fetch exactly one row for deal ID 229731!\nDid not fetch exactly one row for deal ID 229420!\nDid not fetch exactly one row for deal ID 229426!\n"
     ]
    },
    {
     "name": "stdout",
     "output_type": "stream",
     "text": [
      "Did not fetch exactly one row for deal ID 229519!\nDid not fetch exactly one row for deal ID 229569!\nDid not fetch exactly one row for deal ID 229589!\nDid not fetch exactly one row for deal ID 229593!\nDid not fetch exactly one row for deal ID 229609!\nDid not fetch exactly one row for deal ID 229623!\n"
     ]
    },
    {
     "name": "stdout",
     "output_type": "stream",
     "text": [
      "Did not fetch exactly one row for deal ID 229655!\nDid not fetch exactly one row for deal ID 229720!\nDid not fetch exactly one row for deal ID 229743!\nDid not fetch exactly one row for deal ID 229749!\nDid not fetch exactly one row for deal ID 230757!\nDid not fetch exactly one row for deal ID 230803!\n"
     ]
    },
    {
     "name": "stdout",
     "output_type": "stream",
     "text": [
      "Did not fetch exactly one row for deal ID 230818!\nDid not fetch exactly one row for deal ID 230824!\nDid not fetch exactly one row for deal ID 230827!\nDid not fetch exactly one row for deal ID 230835!\nDid not fetch exactly one row for deal ID 230856!\nDid not fetch exactly one row for deal ID 230864!\nDid not fetch exactly one row for deal ID 230896!\nDid not fetch exactly one row for deal ID 230911!\nDid not fetch exactly one row for deal ID 230939!\nDid not fetch exactly one row for deal ID 230943!\nDid not fetch exactly one row for deal ID 230947!\n"
     ]
    },
    {
     "name": "stdout",
     "output_type": "stream",
     "text": [
      "Did not fetch exactly one row for deal ID 231035!\nDid not fetch exactly one row for deal ID 231043!\nDid not fetch exactly one row for deal ID 231084!\nDid not fetch exactly one row for deal ID 231094!\nDid not fetch exactly one row for deal ID 231120!\nDid not fetch exactly one row for deal ID 231138!\nDid not fetch exactly one row for deal ID 231141!\nDid not fetch exactly one row for deal ID 231145!\nDid not fetch exactly one row for deal ID 231179!\nDid not fetch exactly one row for deal ID 231185!\nDid not fetch exactly one row for deal ID 231189!\n"
     ]
    },
    {
     "name": "stdout",
     "output_type": "stream",
     "text": [
      "Deals found in events but not in database: \n{34817, 231425, 53251, 53253, 53255, 231433, 36875, 43021, 30735, 34833, 34839, 63515, 63517, 63519, 231455, 51233, 43043, 51235, 63523, 63527, 63529, 231473, 51251, 231478, 51255, 49211, 47167, 47171, 231493, 34897, 231508, 231511, 34909, 47201, 231523, 34919, 51303, 51309, 51321, 231546, 32895, 34945, 231554, 34947, 231557, 32907, 49293, 28815, 43151, 32913, 231573, 43167, 28831, 41121, 32929, 30883, 39071, 41125, 55459, 41127, 51367, 37033, 55461, 37035, 28845, 28847, 37039, 32945, 55471, 28851, 55475, 32949, 43193, 55481, 32955, 231617, 28867, 55493, 32973, 37071, 231641, 32987, 32991, 28905, 33001, 59625, 231661, 43247, 28913, 28915, 59637, 231669, 33023, 207105, 49413, 51461, 49415, 49421, 49425, 41235, 33045, 41237, 35095, 35097, 49433, 33051, 231705, 49445, 33065, 49453, 231725, 231731, 63797, 33087, 26945, 33091, 51525, 26951, 33095, 51533, 33103, 26963, 231771, 37217, 53605, 231781, 53619, 26997, 37237, 59767, 31097, 61820, 37251, 217477, 61830, 37259, 27023, 31119, 231833, 37275, 47523, 43429, 37287, 43435, 45483, 33207, 47543, 31163, 31169, 47555, 231875, 61896, 47561, 35281, 39377, 43473, 35287, 47575, 39385, 41441, 45537, 27107, 33251, 33253, 33255, 41451, 33261, 41455, 39407, 45559, 39417, 47617, 55811, 27143, 55815, 35343, 55823, 55833, 55835, 55841, 37411, 33317, 37415, 55853, 55857, 29235, 55859, 29237, 45621, 29239, 55865, 37435, 45627, 45629, 55867, 35395, 35401, 49737, 55881, 55883, 35411, 45665, 43625, 37483, 45689, 27263, 49795, 39559, 31371, 49803, 43661, 43665, 49809, 39573, 43669, 43673, 39579, 39585, 39589, 31409, 45745, 31411, 45747, 33461, 45749, 27323, 45757, 27333, 39623, 27339, 31435, 45771, 45775, 31445, 45787, 27357, 37597, 37609, 35563, 35577, 35583, 45823, 29441, 35587, 29445, 35597, 35601, 27415, 205595, 27421, 27423, 29493, 45883, 45885, 58175, 45891, 45893, 35677, 35693, 37741, 52083, 52087, 45945, 52091, 35709, 35711, 45951, 39809, 43909, 25487, 43923, 31651, 39843, 25509, 25511, 41901, 25519, 43951, 41905, 35769, 35775, 31685, 35783, 25545, 35785, 41929, 43977, 41933, 39889, 43985, 43991, 43995, 189403, 27613, 62429, 27617, 27619, 27623, 39913, 27625, 35819, 39917, 29677, 218097, 35849, 35851, 27673, 37915, 46109, 37939, 37941, 37943, 46137, 42055, 60495, 35923, 25693, 35933, 66657, 35939, 60517, 35943, 25707, 35947, 35951, 29809, 42097, 25717, 27765, 29813, 29819, 66683, 35971, 35973, 29837, 25743, 66703, 27799, 66713, 70813, 25759, 27807, 31903, 31905, 66721, 70815, 70819, 70821, 25767, 70823, 31919, 66737, 31923, 70835, 25781, 33973, 31927, 31933, 27839, 33985, 70853, 25799, 31945, 48331, 25811, 27859, 70867, 74965, 74967, 66777, 50397, 70877, 66783, 70881, 74977, 25827, 70883, 25829, 31975, 56551, 31977, 56553, 25835, 31979, 74983, 74989, 70895, 31985, 70897, 34035, 70903, 74999, 66809, 50427, 75003, 70909, 66815, 75011, 70919, 70921, 44303, 70927, 224529, 44307, 44313, 70937, 70943, 34081, 29987, 70947, 44337, 70961, 70965, 42295, 44345, 48441, 70971, 44349, 42305, 42307, 42309, 42311, 42313, 42315, 212301, 44367, 27985, 42321, 52561, 27995, 44379, 25949, 27999, 206183, 44397, 28025, 28039, 30087, 34183, 204169, 28045, 30093, 34189, 79249, 28055, 34199, 79257, 47097, 28063, 34215, 30121, 34219, 34221, 79281, 26035, 28083, 44469, 79285, 44471, 44475, 30143, 206271, 26051, 206279, 26057, 50633, 48589, 79309, 44495, 26073, 32221, 36319, 32225, 28131, 32227, 36325, 44517, 32233, 36333, 50669, 32239, 44527, 32243, 32245, 36341, 56821, 26107, 32255, 26111, 26113, 42497, 44545, 56831, 50693, 50697, 28171, 36363, 32269, 42507, 48657, 26131, 26135, 50711, 48667, 32287, 26145, 28193, 50725, 48679, 34347, 32301, 48687, 32305, 50737, 26163, 32307, 34357, 56881, 56887, 56891, 56897, 26179, 56899, 32325, 50757, 50759, 42575, 58959, 52821, 52823, 42585, 36451, 36455, 26221, 46705, 46709, 26231, 26241, 36481, 26243, 50819, 216713, 26261, 52897, 42679, 36537, 50873, 50877, 44739, 44741, 44763, 44765, 28385, 44771, 26341, 28391, 44775, 34537, 48873, 38635, 48875, 26349, 38637, 44781, 38641, 34547, 28409, 44795, 44803, 26373, 44805, 26375, 50949, 30473, 65287, 65289, 65291, 28429, 26385, 28435, 48919, 36641, 38691, 42787, 42791, 48935, 48941, 42799, 48943, 38707, 231224, 231228, 48959, 48961, 36677, 231244, 48973, 48975, 231249, 231254, 223065, 231262, 231583, 42857, 231276, 28535, 231290, 34691, 34693, 231303, 231312, 34707, 231316, 26517, 34711, 231319, 32669, 221093, 28585, 32681, 42923, 38825, 231341, 51119, 32689, 42931, 212915, 26557, 26563, 32709, 26567, 231367, 34773, 217059, 34789, 59367, 42985, 45037, 42993, 53233, 51187, 45045, 47095, 34809}\n\nSaving 28319 of deals\n"
     ]
    }
   ],
   "source": [
    "Deal.create_and_save_all_deals()"
   ]
  },
  {
   "cell_type": "markdown",
   "metadata": {},
   "source": [
    "Create and save Partners\n",
    "\n",
    "\tsave partner objects as dictionary hashing under partner_id\n",
    " \tsave list of unique partner_id(s)"
   ]
  },
  {
   "cell_type": "code",
   "execution_count": 14,
   "metadata": {
    "collapsed": true
   },
   "outputs": [
    {
     "name": "stdout",
     "output_type": "stream",
     "text": [
      "Gathered 1000000 unique cookies representing users\n"
     ]
    },
    {
     "name": "stdout",
     "output_type": "stream",
     "text": [
      "Throwing away 979839 users\n"
     ]
    },
    {
     "name": "stdout",
     "output_type": "stream",
     "text": [
      "Event type:  rating\nFrom amount: 2082\nMedian:      111\n\nEvent type:  purchase_processed\nFrom amount: 2716\nMedian:      129\n\nEvent type:  basket_add\nFrom amount: 64\nMedian:      188\n\nEvent type:  visit_rating_page\nFrom amount: 246\nMedian:      189\n\nEvent type:  view\nFrom amount: 442395\nMedian:      55\n\nEvent type:  list\nFrom amount: 340735\nMedian:      16\n\n"
     ]
    },
    {
     "name": "stdout",
     "output_type": "stream",
     "text": [
      "Event type:  rating\nMedian:      111\n\nEvent type:  purchase_processed\nMedian:      129\n\nEvent type:  basket_add\nMedian:      188\n\nEvent type:  visit_rating_page\nMedian:      189\n\nEvent type:  view\nMedian:      55\n\nEvent type:  list\nMedian:      16\n\n"
     ]
    }
   ],
   "source": [
    "categories = Category.Category.load_categories()\n",
    "deals = Deal.load_all_deals()\n",
    "\n",
    "User.count_and_save_event_medians(cookie_limit=1000000, categories=categories, deals=deals)\n",
    "User.load_event_medians(debug=True)"
   ]
  },
  {
   "cell_type": "code",
   "execution_count": 15,
   "metadata": {
    "collapsed": true
   },
   "outputs": [
    {
     "name": "stdout",
     "output_type": "stream",
     "text": [
      "Amount of partners: 7172\nPartner ID:    1\nRating average: 4.0\nRating count:   1\n\n\nPartner ID:    4\nRating average: 0\nRating count:   0\n\n\nPartner ID:    6\nRating average: 4.12\nRating count:   16\n\n\nPartner ID:    7\nRating average: 0\nRating count:   0\n\n\nPartner ID:    8\nRating average: 0\nRating count:   0\n\n\n"
     ]
    }
   ],
   "source": [
    "Partner.create_and_save_partners()"
   ]
  },
  {
   "cell_type": "markdown",
   "metadata": {},
   "source": [
    "Create and save Categories\n",
    "\n",
    "\tsave category objects as dictionary hashing under category_id\n",
    " \tsave list of unique category_id(s)"
   ]
  },
  {
   "cell_type": "code",
   "execution_count": 16,
   "metadata": {
    "collapsed": true
   },
   "outputs": [
    {
     "name": "stdout",
     "output_type": "stream",
     "text": [
      "Name: Jedlo a pitie\nID: 1\nURL: restauracie\nID parent: 55\n\nName: Bratislava\nID: 3\nURL: bratislava\nID parent: 0\n\nName: Bratislava I.\nID: 9\nURL: bratislava_i\nID parent: 0\n\nName: Bratislava II.\nID: 10\nURL: bratislava_ii.\nID parent: 0\n\nName: Bratislava IV.\nID: 11\nURL: bratislava_iv\nID parent: 0\n\nName: Piešťany\nID: 12\nURL: piestany\nID parent: 0\n\nName: Zdravie, Wellness a Krása\nID: 14\nURL: zdravie-wellness-a-krasa\nID parent: 55\n\nName: Košice\nID: 15\nURL: kosice\nID parent: 0\n\nName: Celoslovenské zľavy\nID: 16\nURL: globalne-ponuky\nID parent: 0\n\nName: Zvolen\nID: 17\nURL: zvolen\nID parent: 0\n\nName: Bystrica Zvolen\nID: 18\nURL: bystrica_zvolen\nID parent: 0\n\nName: Trnava\nID: 19\nURL: trnava\nID parent: 0\n\nName: Nitra\nID: 20\nURL: nitra\nID parent: 0\n\nName: Trenčín\nID: 21\nURL: trencin\nID parent: 0\n\nName: Žilina\nID: 22\nURL: zilina\nID parent: 0\n\nName: Prešov\nID: 23\nURL: presov\nID parent: 0\n\nName: Poprad\nID: 24\nURL: poprad\nID parent: 0\n\nName: Bratislava-Valentin\nID: 25\nURL: bratislava_valentin\nID parent: 0\n\nName: Cestovanie\nID: 26\nURL: cestovanie\nID parent: 0\n\nName: Auto-Moto\nID: 27\nURL: automoto\nID parent: 69\n\n"
     ]
    }
   ],
   "source": [
    "Category.Category.create_and_save_categories()"
   ]
  },
  {
   "cell_type": "markdown",
   "metadata": {},
   "source": [
    "Create and save User objects\n",
    "\tusers are saved in a batches of 5000 in 'users' dir"
   ]
  },
  {
   "cell_type": "code",
   "execution_count": 17,
   "metadata": {
    "collapsed": true
   },
   "outputs": [
    {
     "name": "stdout",
     "output_type": "stream",
     "text": [
      "Gathered 3786796 unique cookies representing users\n"
     ]
    },
    {
     "name": "stdout",
     "output_type": "stream",
     "text": [
      "Saving users 0-500\n"
     ]
    },
    {
     "name": "stdout",
     "output_type": "stream",
     "text": [
      "Saving users 500-1000\n"
     ]
    },
    {
     "name": "stdout",
     "output_type": "stream",
     "text": [
      "Saving users 1000-1500\n"
     ]
    },
    {
     "name": "stdout",
     "output_type": "stream",
     "text": [
      "Saving users 1500-2000\n"
     ]
    },
    {
     "name": "stdout",
     "output_type": "stream",
     "text": [
      "Saving users 2000-2500\n"
     ]
    },
    {
     "name": "stdout",
     "output_type": "stream",
     "text": [
      "Saving users 2500-3000\n"
     ]
    },
    {
     "name": "stdout",
     "output_type": "stream",
     "text": [
      "Saving users 3000-3500\n"
     ]
    },
    {
     "name": "stdout",
     "output_type": "stream",
     "text": [
      "Saving users 3500-4000\n"
     ]
    },
    {
     "name": "stdout",
     "output_type": "stream",
     "text": [
      "Saving users 4000-4500\n"
     ]
    },
    {
     "name": "stdout",
     "output_type": "stream",
     "text": [
      "Saving users 4500-5000\n"
     ]
    },
    {
     "name": "stdout",
     "output_type": "stream",
     "text": [
      "Saving users 5000-5500\n"
     ]
    },
    {
     "name": "stdout",
     "output_type": "stream",
     "text": [
      "Saving users 5500-6000\n"
     ]
    },
    {
     "name": "stdout",
     "output_type": "stream",
     "text": [
      "Saving users 6000-6500\n"
     ]
    },
    {
     "name": "stdout",
     "output_type": "stream",
     "text": [
      "Saving users 6500-7000\n"
     ]
    },
    {
     "name": "stdout",
     "output_type": "stream",
     "text": [
      "Saving users 7000-7500\n"
     ]
    },
    {
     "name": "stdout",
     "output_type": "stream",
     "text": [
      "Saving users 7500-8000\n"
     ]
    },
    {
     "name": "stdout",
     "output_type": "stream",
     "text": [
      "Saving users 8000-8500\n"
     ]
    },
    {
     "name": "stdout",
     "output_type": "stream",
     "text": [
      "Saving users 8500-9000\n"
     ]
    },
    {
     "name": "stdout",
     "output_type": "stream",
     "text": [
      "Saving users 9000-9500\n"
     ]
    },
    {
     "name": "stdout",
     "output_type": "stream",
     "text": [
      "Saving users 9500-10000\n"
     ]
    },
    {
     "name": "stdout",
     "output_type": "stream",
     "text": [
      "Saving users 10000-10500\n"
     ]
    },
    {
     "name": "stdout",
     "output_type": "stream",
     "text": [
      "Saving users 10500-11000\n"
     ]
    },
    {
     "name": "stdout",
     "output_type": "stream",
     "text": [
      "Saving users 11000-11500\n"
     ]
    },
    {
     "name": "stdout",
     "output_type": "stream",
     "text": [
      "Saving users 11500-12000\n"
     ]
    },
    {
     "name": "stdout",
     "output_type": "stream",
     "text": [
      "Saving users 12000-12500\n"
     ]
    },
    {
     "name": "stdout",
     "output_type": "stream",
     "text": [
      "Saving users 12500-13000\n"
     ]
    },
    {
     "name": "stdout",
     "output_type": "stream",
     "text": [
      "Saving users 13000-13500\n"
     ]
    },
    {
     "name": "stdout",
     "output_type": "stream",
     "text": [
      "Saving users 13500-14000\n"
     ]
    },
    {
     "name": "stdout",
     "output_type": "stream",
     "text": [
      "Saving users 14000-14500\n"
     ]
    },
    {
     "name": "stdout",
     "output_type": "stream",
     "text": [
      "Saving users 14500-15000\n"
     ]
    },
    {
     "name": "stdout",
     "output_type": "stream",
     "text": [
      "Saving users 15000-15500\n"
     ]
    },
    {
     "name": "stdout",
     "output_type": "stream",
     "text": [
      "Saving users 15500-16000\n"
     ]
    },
    {
     "name": "stdout",
     "output_type": "stream",
     "text": [
      "Saving users 16000-16500\n"
     ]
    },
    {
     "name": "stdout",
     "output_type": "stream",
     "text": [
      "Saving users 16500-17000\n"
     ]
    },
    {
     "name": "stdout",
     "output_type": "stream",
     "text": [
      "Saving users 17000-17500\n"
     ]
    },
    {
     "name": "stdout",
     "output_type": "stream",
     "text": [
      "Saving users 17500-18000\n"
     ]
    },
    {
     "name": "stdout",
     "output_type": "stream",
     "text": [
      "Saving users 18000-18500\n"
     ]
    },
    {
     "name": "stdout",
     "output_type": "stream",
     "text": [
      "Saving users 18500-19000\n"
     ]
    },
    {
     "name": "stdout",
     "output_type": "stream",
     "text": [
      "Saving users 19000-19500\n"
     ]
    },
    {
     "name": "stdout",
     "output_type": "stream",
     "text": [
      "Saving users 19500-20000\n"
     ]
    },
    {
     "name": "stdout",
     "output_type": "stream",
     "text": [
      "Saving users 20000-20500\n"
     ]
    },
    {
     "name": "stdout",
     "output_type": "stream",
     "text": [
      "Saving users 20500-21000\n"
     ]
    },
    {
     "name": "stdout",
     "output_type": "stream",
     "text": [
      "Saving users 21000-21500\n"
     ]
    },
    {
     "name": "stdout",
     "output_type": "stream",
     "text": [
      "Saving users 21500-22000\n"
     ]
    },
    {
     "name": "stdout",
     "output_type": "stream",
     "text": [
      "Saving users 22000-22500\n"
     ]
    },
    {
     "name": "stdout",
     "output_type": "stream",
     "text": [
      "Saving users 22500-23000\n"
     ]
    },
    {
     "name": "stdout",
     "output_type": "stream",
     "text": [
      "Saving users 23000-23500\n"
     ]
    },
    {
     "name": "stdout",
     "output_type": "stream",
     "text": [
      "Saving users 23500-24000\n"
     ]
    },
    {
     "name": "stdout",
     "output_type": "stream",
     "text": [
      "Saving users 24000-24500\n"
     ]
    },
    {
     "name": "stdout",
     "output_type": "stream",
     "text": [
      "Saving users 24500-25000\n"
     ]
    },
    {
     "name": "stdout",
     "output_type": "stream",
     "text": [
      "Saving users 25000-25500\n"
     ]
    },
    {
     "name": "stdout",
     "output_type": "stream",
     "text": [
      "Saving users 25500-26000\n"
     ]
    },
    {
     "name": "stdout",
     "output_type": "stream",
     "text": [
      "Saving users 26000-26500\n"
     ]
    },
    {
     "name": "stdout",
     "output_type": "stream",
     "text": [
      "Saving users 26500-27000\n"
     ]
    },
    {
     "name": "stdout",
     "output_type": "stream",
     "text": [
      "Saving users 27000-27500\n"
     ]
    },
    {
     "name": "stdout",
     "output_type": "stream",
     "text": [
      "Saving users 27500-28000\n"
     ]
    },
    {
     "name": "stdout",
     "output_type": "stream",
     "text": [
      "Saving users 28000-28500\n"
     ]
    },
    {
     "name": "stdout",
     "output_type": "stream",
     "text": [
      "Saving users 28500-29000\n"
     ]
    },
    {
     "name": "stdout",
     "output_type": "stream",
     "text": [
      "Saving users 29000-29500\n"
     ]
    },
    {
     "name": "stdout",
     "output_type": "stream",
     "text": [
      "Saving users 29500-30000\n"
     ]
    },
    {
     "name": "stdout",
     "output_type": "stream",
     "text": [
      "Saving users 30000-30500\n"
     ]
    },
    {
     "name": "stdout",
     "output_type": "stream",
     "text": [
      "Saving users 30500-31000\n"
     ]
    },
    {
     "name": "stdout",
     "output_type": "stream",
     "text": [
      "Saving users 31000-31500\n"
     ]
    },
    {
     "name": "stdout",
     "output_type": "stream",
     "text": [
      "Saving users 31500-32000\n"
     ]
    },
    {
     "name": "stdout",
     "output_type": "stream",
     "text": [
      "Saving users 32000-32500\n"
     ]
    },
    {
     "name": "stdout",
     "output_type": "stream",
     "text": [
      "Saving users 32500-33000\n"
     ]
    },
    {
     "name": "stdout",
     "output_type": "stream",
     "text": [
      "Saving users 33000-33500\n"
     ]
    },
    {
     "name": "stdout",
     "output_type": "stream",
     "text": [
      "Saving users 33500-34000\n"
     ]
    },
    {
     "name": "stdout",
     "output_type": "stream",
     "text": [
      "Saving users 34000-34500\n"
     ]
    },
    {
     "name": "stdout",
     "output_type": "stream",
     "text": [
      "Saving users 34500-35000\n"
     ]
    },
    {
     "name": "stdout",
     "output_type": "stream",
     "text": [
      "Saving users 35000-35500\n"
     ]
    },
    {
     "name": "stdout",
     "output_type": "stream",
     "text": [
      "Saving users 35500-36000\n"
     ]
    },
    {
     "name": "stdout",
     "output_type": "stream",
     "text": [
      "Saving users 36000-36500\n"
     ]
    },
    {
     "name": "stdout",
     "output_type": "stream",
     "text": [
      "Saving users 36500-37000\n"
     ]
    },
    {
     "name": "stdout",
     "output_type": "stream",
     "text": [
      "Saving users 37000-37500\n"
     ]
    },
    {
     "name": "stdout",
     "output_type": "stream",
     "text": [
      "Saving users 37500-38000\n"
     ]
    },
    {
     "name": "stdout",
     "output_type": "stream",
     "text": [
      "Saving users 38000-38500\n"
     ]
    },
    {
     "name": "stdout",
     "output_type": "stream",
     "text": [
      "Saving users 38500-39000\n"
     ]
    },
    {
     "name": "stdout",
     "output_type": "stream",
     "text": [
      "Saving users 39000-39500\n"
     ]
    },
    {
     "name": "stdout",
     "output_type": "stream",
     "text": [
      "Saving users 39500-40000\n"
     ]
    },
    {
     "name": "stdout",
     "output_type": "stream",
     "text": [
      "Saving users 40000-40500\n"
     ]
    },
    {
     "name": "stdout",
     "output_type": "stream",
     "text": [
      "Saving users 40500-41000\n"
     ]
    },
    {
     "name": "stdout",
     "output_type": "stream",
     "text": [
      "Saving users 41000-41500\n"
     ]
    },
    {
     "name": "stdout",
     "output_type": "stream",
     "text": [
      "Saving users 41500-42000\n"
     ]
    },
    {
     "name": "stdout",
     "output_type": "stream",
     "text": [
      "Saving users 42000-42500\n"
     ]
    },
    {
     "name": "stdout",
     "output_type": "stream",
     "text": [
      "Saving users 42500-43000\n"
     ]
    },
    {
     "name": "stdout",
     "output_type": "stream",
     "text": [
      "Saving users 43000-43500\n"
     ]
    },
    {
     "name": "stdout",
     "output_type": "stream",
     "text": [
      "Saving users 43500-44000\n"
     ]
    },
    {
     "name": "stdout",
     "output_type": "stream",
     "text": [
      "Saving users 44000-44500\n"
     ]
    },
    {
     "name": "stdout",
     "output_type": "stream",
     "text": [
      "Saving users 44500-45000\n"
     ]
    },
    {
     "name": "stdout",
     "output_type": "stream",
     "text": [
      "Saving users 45000-45500\n"
     ]
    },
    {
     "name": "stdout",
     "output_type": "stream",
     "text": [
      "Saving users 45500-46000\n"
     ]
    },
    {
     "name": "stdout",
     "output_type": "stream",
     "text": [
      "Saving users 46000-46500\n"
     ]
    },
    {
     "name": "stdout",
     "output_type": "stream",
     "text": [
      "Saving users 46500-47000\n"
     ]
    },
    {
     "name": "stdout",
     "output_type": "stream",
     "text": [
      "Saving users 47000-47500\n"
     ]
    },
    {
     "name": "stdout",
     "output_type": "stream",
     "text": [
      "Saving users 47500-48000\n"
     ]
    },
    {
     "name": "stdout",
     "output_type": "stream",
     "text": [
      "Saving users 48000-48500\n"
     ]
    },
    {
     "name": "stdout",
     "output_type": "stream",
     "text": [
      "Saving users 48500-49000\n"
     ]
    },
    {
     "name": "stdout",
     "output_type": "stream",
     "text": [
      "Saving users 49000-49500\n"
     ]
    },
    {
     "name": "stdout",
     "output_type": "stream",
     "text": [
      "Saving users 49500-50000\n"
     ]
    },
    {
     "name": "stdout",
     "output_type": "stream",
     "text": [
      "Saving users 50000-50500\n"
     ]
    },
    {
     "name": "stdout",
     "output_type": "stream",
     "text": [
      "Saving users 50500-51000\n"
     ]
    },
    {
     "name": "stdout",
     "output_type": "stream",
     "text": [
      "Saving users 51000-51500\n"
     ]
    },
    {
     "name": "stdout",
     "output_type": "stream",
     "text": [
      "Saving users 51500-52000\n"
     ]
    },
    {
     "name": "stdout",
     "output_type": "stream",
     "text": [
      "Saving users 52000-52500\n"
     ]
    },
    {
     "name": "stdout",
     "output_type": "stream",
     "text": [
      "Saving users 52500-53000\n"
     ]
    },
    {
     "name": "stdout",
     "output_type": "stream",
     "text": [
      "Saving users 53000-53500\n"
     ]
    },
    {
     "name": "stdout",
     "output_type": "stream",
     "text": [
      "Saving users 53500-54000\n"
     ]
    },
    {
     "name": "stdout",
     "output_type": "stream",
     "text": [
      "Saving users 54000-54500\n"
     ]
    },
    {
     "name": "stdout",
     "output_type": "stream",
     "text": [
      "Saving users 54500-55000\n"
     ]
    },
    {
     "name": "stdout",
     "output_type": "stream",
     "text": [
      "Saving users 55000-55500\n"
     ]
    },
    {
     "name": "stdout",
     "output_type": "stream",
     "text": [
      "Saving users 55500-56000\n"
     ]
    },
    {
     "name": "stdout",
     "output_type": "stream",
     "text": [
      "Saving users 56000-56500\n"
     ]
    },
    {
     "name": "stdout",
     "output_type": "stream",
     "text": [
      "Saving users 56500-57000\n"
     ]
    },
    {
     "name": "stdout",
     "output_type": "stream",
     "text": [
      "Saving users 57000-57500\n"
     ]
    },
    {
     "name": "stdout",
     "output_type": "stream",
     "text": [
      "Saving users 57500-58000\n"
     ]
    },
    {
     "name": "stdout",
     "output_type": "stream",
     "text": [
      "Saving users 58000-58500\n"
     ]
    },
    {
     "name": "stdout",
     "output_type": "stream",
     "text": [
      "Saving users 58500-59000\n"
     ]
    },
    {
     "name": "stdout",
     "output_type": "stream",
     "text": [
      "Saving users 59000-59500\n"
     ]
    },
    {
     "name": "stdout",
     "output_type": "stream",
     "text": [
      "Saving users 59500-60000\n"
     ]
    },
    {
     "name": "stdout",
     "output_type": "stream",
     "text": [
      "Saving users 60000-60500\n"
     ]
    },
    {
     "name": "stdout",
     "output_type": "stream",
     "text": [
      "Saving users 60500-61000\n"
     ]
    },
    {
     "name": "stdout",
     "output_type": "stream",
     "text": [
      "Saving users 61000-61500\n"
     ]
    },
    {
     "name": "stdout",
     "output_type": "stream",
     "text": [
      "Saving users 61500-62000\n"
     ]
    },
    {
     "name": "stdout",
     "output_type": "stream",
     "text": [
      "Saving users 62000-62500\n"
     ]
    },
    {
     "name": "stdout",
     "output_type": "stream",
     "text": [
      "Saving users 62500-63000\n"
     ]
    },
    {
     "name": "stdout",
     "output_type": "stream",
     "text": [
      "Saving users 63000-63500\n"
     ]
    },
    {
     "name": "stdout",
     "output_type": "stream",
     "text": [
      "Saving users 63500-64000\n"
     ]
    },
    {
     "name": "stdout",
     "output_type": "stream",
     "text": [
      "Saving users 64000-64500\n"
     ]
    },
    {
     "name": "stdout",
     "output_type": "stream",
     "text": [
      "Saving users 64500-65000\n"
     ]
    },
    {
     "name": "stdout",
     "output_type": "stream",
     "text": [
      "Saving users 65000-65500\n"
     ]
    },
    {
     "name": "stdout",
     "output_type": "stream",
     "text": [
      "Saving users 65500-66000\n"
     ]
    },
    {
     "name": "stdout",
     "output_type": "stream",
     "text": [
      "Saving users 66000-66500\n"
     ]
    },
    {
     "name": "stdout",
     "output_type": "stream",
     "text": [
      "Saving users 66500-67000\n"
     ]
    },
    {
     "name": "stdout",
     "output_type": "stream",
     "text": [
      "Saving users 67000-67500\n"
     ]
    },
    {
     "name": "stdout",
     "output_type": "stream",
     "text": [
      "Saving users 67500-68000\n"
     ]
    },
    {
     "name": "stdout",
     "output_type": "stream",
     "text": [
      "Saving users 68000-68500\n"
     ]
    },
    {
     "name": "stdout",
     "output_type": "stream",
     "text": [
      "Saving users 68500-69000\n"
     ]
    },
    {
     "name": "stdout",
     "output_type": "stream",
     "text": [
      "Saving users 69000-69500\n"
     ]
    },
    {
     "name": "stdout",
     "output_type": "stream",
     "text": [
      "Saving users 69500-70000\n"
     ]
    },
    {
     "name": "stdout",
     "output_type": "stream",
     "text": [
      "Saving users 70000-70500\n"
     ]
    },
    {
     "name": "stdout",
     "output_type": "stream",
     "text": [
      "Saving users 70500-71000\n"
     ]
    },
    {
     "name": "stdout",
     "output_type": "stream",
     "text": [
      "Saving users 71000-71500\n"
     ]
    },
    {
     "name": "stdout",
     "output_type": "stream",
     "text": [
      "Saving users 71500-72000\n"
     ]
    },
    {
     "name": "stdout",
     "output_type": "stream",
     "text": [
      "Saving users 72000-72500\n"
     ]
    },
    {
     "name": "stdout",
     "output_type": "stream",
     "text": [
      "Saving users 72500-73000\n"
     ]
    },
    {
     "name": "stdout",
     "output_type": "stream",
     "text": [
      "Saving users 73000-73500\n"
     ]
    },
    {
     "name": "stdout",
     "output_type": "stream",
     "text": [
      "Saving users 73500-74000\n"
     ]
    },
    {
     "name": "stdout",
     "output_type": "stream",
     "text": [
      "Saving users 74000-74500\n"
     ]
    },
    {
     "name": "stdout",
     "output_type": "stream",
     "text": [
      "Saving users 74500-75000\n"
     ]
    },
    {
     "name": "stdout",
     "output_type": "stream",
     "text": [
      "Saving users 75000-75500\n"
     ]
    },
    {
     "name": "stdout",
     "output_type": "stream",
     "text": [
      "Saving users 75500-76000\n"
     ]
    },
    {
     "name": "stdout",
     "output_type": "stream",
     "text": [
      "Saving last 101 users\nUser ID:            864139\nCreation time:      2017-07-26 11:52:31.922000\nAmount of events: 50\nEvent number: 0\nTimestamp:          2017-05-09 07:15:00.989000\nDuration:           95\nEntity type:        user\nEvent type:         view\nCategories:         [3, 637, 1159, 15, 16, 18, 19, 20, 21, 22, 23, 24, 26, 38, 559, 55, 57, 323, 973, 1231, 87, 1111, 857, 1113, 859, 861, 1253, 615, 871, 1263, 1277]\nTarget entity type: deal\nTarget entity id:   218887\n\n\n\nEvent number: 1\nTimestamp:          2017-05-09 07:16:36.922000\nDuration:           91\nEntity type:        user\nEvent type:         view\nCategories:         [3, 139, 15, 16, 18, 19, 20, 21, 22, 23, 24, 26, 38, 55, 1219, 983, 857, 1119, 869, 1253, 871, 873, 879, 1263, 887, 637]\nTarget entity type: deal\nTarget entity id:   219015\n\n\n\nEvent number: 2\nTimestamp:          2017-05-09 07:18:08.095000\nDuration:           158\nEntity type:        user\nEvent type:         list\nCategories:         [3]\nTarget entity type: category\nTarget entity id:   3\n\n\n\nEvent number: 3\nTimestamp:          2017-05-09 07:20:46.315000\nDuration:           42\nEntity type:        user\nEvent type:         list\nCategories:         [3]\nTarget entity type: category\nTarget entity id:   3\n\n\n\nEvent number: 4\nTimestamp:          2017-05-09 07:21:29.228000\nDuration:           145\nEntity type:        user\nEvent type:         view\nCategories:         [3, 1155, 15, 16, 18, 19, 20, 21, 22, 23, 24, 26, 38, 1191, 1071, 559, 55, 323, 1111, 1113, 857, 859, 867, 1253, 1011, 1273, 1019, 637]\nTarget entity type: deal\nTarget entity id:   215397\n\n\n\nEvent number: 5\nTimestamp:          2017-05-09 07:23:54.626000\nDuration:           18\nEntity type:        user\nEvent type:         list\nCategories:         [3]\nTarget entity type: category\nTarget entity id:   3\n\n\n\nEvent number: 6\nTimestamp:          2017-05-09 07:24:13.545000\nDuration:           49\nEntity type:        user\nEvent type:         list\nCategories:         [3]\nTarget entity type: category\nTarget entity id:   3\n\n\n\nEvent number: 7\nTimestamp:          2017-05-09 07:25:02.631000\nDuration:           48\nEntity type:        user\nEvent type:         view\nCategories:         [3, 139, 15, 16, 18, 19, 20, 21, 22, 23, 24, 26, 38, 55, 323, 981, 1113, 857, 859, 1121, 1253, 615, 1263, 637]\nTarget entity type: deal\nTarget entity id:   199849\n\n\n\nEvent number: 8\nTimestamp:          2017-05-09 07:25:51.376000\nDuration:           19\nEntity type:        user\nEvent type:         list\nCategories:         [3]\nTarget entity type: category\nTarget entity id:   3\n\n\n\nEvent number: 9\nTimestamp:          2017-05-09 07:26:10.575000\nDuration:           16\nEntity type:        user\nEvent type:         list\nCategories:         [3]\nTarget entity type: category\nTarget entity id:   3\n\n\n\nEvent number: 10\nTimestamp:          2017-07-16 18:30:38.868000\nDuration:           88\nEntity type:        user\nEvent type:         list\nCategories:         [1079, 1113, 26]\nTarget entity type: category\nTarget entity id:   1079\n\n\n\nEvent number: 11\nTimestamp:          2017-07-16 18:32:07.631000\nDuration:           171\nEntity type:        user\nEvent type:         view\nCategories:         [3, 1159, 15, 16, 18, 19, 20, 21, 22, 23, 24, 26, 165, 38, 55, 57, 323, 973, 1231, 87, 1111, 857, 1113, 859, 861, 867, 1253, 615, 871, 1263, 637]\nTarget entity type: deal\nTarget entity id:   224061\n\n\n\nEvent number: 12\nTimestamp:          2017-07-16 18:34:59.495000\nDuration:           16\nEntity type:        user\nEvent type:         list\nCategories:         [3]\nTarget entity type: category\nTarget entity id:   3\n\n\n\nEvent number: 13\nTimestamp:          2017-07-16 19:31:24.644000\nDuration:           191\nEntity type:        user\nEvent type:         view\nCategories:         [3, 1157, 15, 16, 18, 19, 20, 21, 22, 23, 24, 26, 38, 55, 57, 323, 973, 1231, 1111, 1113, 857, 859, 867, 1253, 615, 1263, 637]\nTarget entity type: deal\nTarget entity id:   224619\n\n\n\nEvent number: 14\nTimestamp:          2017-07-16 19:34:36.527000\nDuration:           149\nEntity type:        user\nEvent type:         view\nCategories:         [3, 1155, 15, 16, 18, 19, 20, 21, 22, 23, 24, 26, 38, 55, 323, 1231, 1111, 1113, 985, 859, 857, 863, 869, 1253, 615, 1263, 637]\nTarget entity type: deal\nTarget entity id:   222643\n\n\n\nEvent number: 15\nTimestamp:          2017-07-16 19:37:06.047000\nDuration:           3\nEntity type:        user\nEvent type:         list\nCategories:         [26]\nTarget entity type: category\nTarget entity id:   26\n\n\n\nEvent number: 16\nTimestamp:          2017-07-16 19:37:10.043000\nDuration:           8\nEntity type:        user\nEvent type:         view\nCategories:         [3, 1157, 15, 16, 18, 19, 20, 21, 22, 23, 24, 26, 411, 1181, 36, 38, 55, 973, 1107, 1111, 857, 347, 861, 1253, 743, 1263, 637]\nTarget entity type: deal\nTarget entity id:   219599\n\n\n\nEvent number: 17\nTimestamp:          2017-07-16 19:37:18.948000\nDuration:           9\nEntity type:        user\nEvent type:         list\nCategories:         [26]\nTarget entity type: category\nTarget entity id:   26\n\n\n\nEvent number: 18\nTimestamp:          2017-07-16 19:37:28.354000\nDuration:           258\nEntity type:        user\nEvent type:         view\nCategories:         [3, 1157, 15, 16, 18, 19, 20, 21, 22, 23, 24, 26, 38, 57, 323, 973, 1231, 1107, 1111, 1113, 857, 859, 861, 867, 1253, 615, 1263, 637]\nTarget entity type: deal\nTarget entity id:   220385\n\n\n\nEvent number: 19\nTimestamp:          2017-07-16 19:41:47.347000\nDuration:           96\nEntity type:        user\nEvent type:         list\nCategories:         [26]\nTarget entity type: category\nTarget entity id:   26\n\n\n\nEvent number: 20\nTimestamp:          2017-07-16 19:43:24.111000\nDuration:           178\nEntity type:        user\nEvent type:         view\nCategories:         [3, 139, 15, 16, 18, 19, 20, 21, 22, 23, 24, 26, 165, 38, 55, 1079, 1229, 1231, 1109, 1113, 857, 1253, 871, 1263, 887, 889, 637]\nTarget entity type: deal\nTarget entity id:   225433\n\n\n\nEvent number: 21\nTimestamp:          2017-07-16 19:46:22.669000\nDuration:           16\nEntity type:        user\nEvent type:         list\nCategories:         [26]\nTarget entity type: category\nTarget entity id:   26\n\n\n\nEvent number: 22\nTimestamp:          2017-07-18 08:34:46.549000\nDuration:           89\nEntity type:        user\nEvent type:         list\nCategories:         [26]\nTarget entity type: category\nTarget entity id:   26\n\n\n\nEvent number: 23\nTimestamp:          2017-07-18 08:36:16.371000\nDuration:           181\nEntity type:        user\nEvent type:         view\nCategories:         [3, 1157, 15, 16, 18, 19, 20, 21, 22, 23, 24, 26, 38, 55, 57, 323, 973, 1231, 1111, 1113, 857, 859, 867, 1253, 615, 1263, 637]\nTarget entity type: deal\nTarget entity id:   224619\n\n\n\nEvent number: 24\nTimestamp:          2017-07-18 08:39:17.662000\nDuration:           5\nEntity type:        user\nEvent type:         list\nCategories:         [26]\nTarget entity type: category\nTarget entity id:   26\n\n\n\nEvent number: 25\nTimestamp:          2017-07-18 08:39:23.381000\nDuration:           151\nEntity type:        user\nEvent type:         list\nCategories:         [26]\nTarget entity type: category\nTarget entity id:   26\n\n\n\nEvent number: 26\nTimestamp:          2017-07-18 08:41:54.390000\nDuration:           42\nEntity type:        user\nEvent type:         view\nCategories:         [3, 637, 1159, 15, 16, 18, 19, 20, 21, 22, 23, 24, 26, 38, 55, 57, 323, 973, 975, 1231, 87, 1111, 857, 1113, 859, 861, 1253, 615, 871, 1263, 1277]\nTarget entity type: deal\nTarget entity id:   210721\n\n\n\nEvent number: 27\nTimestamp:          2017-07-18 08:42:36.821000\nDuration:           143\nEntity type:        user\nEvent type:         list\nCategories:         [26]\nTarget entity type: category\nTarget entity id:   26\n\n\n\nEvent number: 28\nTimestamp:          2017-07-18 08:45:00.507000\nDuration:           1\nEntity type:        user\nEvent type:         list\nCategories:         [26]\nTarget entity type: category\nTarget entity id:   26\n\n\n\nEvent number: 29\nTimestamp:          2017-07-18 08:45:02.340000\nDuration:           57\nEntity type:        user\nEvent type:         view\nCategories:         [3, 1155, 15, 16, 18, 19, 20, 21, 22, 23, 24, 26, 38, 1191, 559, 55, 323, 1111, 1113, 857, 859, 1253, 615, 1263, 637]\nTarget entity type: deal\nTarget entity id:   216290\n\n\n\nEvent number: 30\nTimestamp:          2017-07-18 08:46:00.212000\nDuration:           26\nEntity type:        user\nEvent type:         list\nCategories:         [26]\nTarget entity type: category\nTarget entity id:   26\n\n\n\nEvent number: 31\nTimestamp:          2017-07-18 08:46:27.062000\nDuration:           36\nEntity type:        user\nEvent type:         view\nCategories:         [3, 1155, 15, 16, 18, 19, 20, 21, 22, 23, 24, 26, 165, 38, 1191, 55, 323, 1231, 1111, 985, 857, 859, 1113, 863, 1253, 615, 871, 1263, 637]\nTarget entity type: deal\nTarget entity id:   221057\n\n\n\nEvent number: 32\nTimestamp:          2017-07-18 08:47:03.541000\nDuration:           38\nEntity type:        user\nEvent type:         list\nCategories:         [26]\nTarget entity type: category\nTarget entity id:   26\n\n\n\nEvent number: 33\nTimestamp:          2017-07-18 08:47:41.867000\nDuration:           146\nEntity type:        user\nEvent type:         view\nCategories:         [3, 1155, 15, 16, 18, 19, 20, 21, 22, 23, 24, 26, 38, 1191, 559, 55, 572, 574, 576, 578, 323, 75, 1231, 1111, 857, 1113, 859, 1253, 615, 1263, 637]\nTarget entity type: deal\nTarget entity id:   211981\n\n\n\nEvent number: 34\nTimestamp:          2017-07-18 08:50:08.490000\nDuration:           62\nEntity type:        user\nEvent type:         list\nCategories:         [26]\nTarget entity type: category\nTarget entity id:   26\n\n\n\nEvent number: 35\nTimestamp:          2017-07-18 08:51:10.823000\nDuration:           100\nEntity type:        user\nEvent type:         view\nCategories:         [3, 637, 1159, 15, 16, 18, 19, 20, 21, 22, 23, 24, 26, 38, 1191, 559, 55, 57, 323, 973, 975, 1231, 1111, 857, 1113, 859, 1253, 615, 1263, 1277]\nTarget entity type: deal\nTarget entity id:   215321\n\n\n\nEvent number: 36\nTimestamp:          2017-07-18 08:52:51.788000\nDuration:           64\nEntity type:        user\nEvent type:         list\nCategories:         [26]\nTarget entity type: category\nTarget entity id:   26\n\n\n\nEvent number: 37\nTimestamp:          2017-07-18 08:53:56.213000\nDuration:           16\nEntity type:        user\nEvent type:         list\nCategories:         [26]\nTarget entity type: category\nTarget entity id:   26\n\n\n\nEvent number: 38\nTimestamp:          2017-07-18 17:55:01.250000\nDuration:           144\nEntity type:        user\nEvent type:         view\nCategories:         [3, 1157, 1163, 15, 16, 18, 19, 20, 21, 22, 23, 24, 26, 38, 55, 323, 1231, 1111, 1113, 857, 859, 1253, 615, 1263, 637]\nTarget entity type: deal\nTarget entity id:   220379\n\n\n\nEvent number: 39\nTimestamp:          2017-07-18 17:57:25.699000\nDuration:           12\nEntity type:        user\nEvent type:         view\nCategories:         [3, 1159, 1163, 15, 16, 18, 19, 20, 21, 22, 23, 24, 26, 38, 1079, 323, 1231, 1111, 1113, 857, 859, 1253, 615, 1263, 637]\nTarget entity type: deal\nTarget entity id:   221561\n\n\n\nEvent number: 40\nTimestamp:          2017-07-18 17:57:38.665000\nDuration:           51\nEntity type:        user\nEvent type:         list\nCategories:         [1079, 1113, 26]\nTarget entity type: category\nTarget entity id:   1079\n\n\n\nEvent number: 41\nTimestamp:          2017-07-18 17:58:30.356000\nDuration:           53\nEntity type:        user\nEvent type:         view\nCategories:         [3, 1157, 637, 15, 16, 18, 19, 20, 21, 22, 23, 24, 26, 165, 38, 559, 55, 57, 323, 973, 1231, 1107, 1111, 857, 1113, 859, 861, 1253, 615, 871, 1263, 1277, 1151]\nTarget entity type: deal\nTarget entity id:   222237\n\n\n\nEvent number: 42\nTimestamp:          2017-07-18 17:59:23.845000\nDuration:           110\nEntity type:        user\nEvent type:         list\nCategories:         [1079, 1113, 26]\nTarget entity type: category\nTarget entity id:   1079\n\n\n\nEvent number: 43\nTimestamp:          2017-07-18 18:01:14.567000\nDuration:           73\nEntity type:        user\nEvent type:         view\nCategories:         [3, 1157, 15, 16, 18, 19, 20, 21, 22, 23, 24, 26, 165, 38, 1191, 55, 1079, 57, 323, 973, 1231, 1107, 1111, 857, 1113, 859, 861, 1253, 615, 871, 1263, 637, 1151]\nTarget entity type: deal\nTarget entity id:   223979\n\n\n\nEvent number: 44\nTimestamp:          2017-07-18 18:02:27.862000\nDuration:           90\nEntity type:        user\nEvent type:         list\nCategories:         [26]\nTarget entity type: category\nTarget entity id:   26\n\n\n\nEvent number: 45\nTimestamp:          2017-07-18 18:03:58.067000\nDuration:           225\nEntity type:        user\nEvent type:         view\nCategories:         [3, 1157, 15, 16, 18, 19, 20, 21, 22, 23, 24, 26, 38, 55, 57, 323, 973, 1231, 1111, 1113, 857, 859, 867, 1253, 615, 1263, 637]\nTarget entity type: deal\nTarget entity id:   224619\n\n\n\nEvent number: 46\nTimestamp:          2017-07-18 18:07:43.387000\nDuration:           35\nEntity type:        user\nEvent type:         list\nCategories:         [26]\nTarget entity type: category\nTarget entity id:   26\n\n\n\nEvent number: 47\nTimestamp:          2017-07-18 18:08:18.923000\nDuration:           55\nEntity type:        user\nEvent type:         view\nCategories:         [3, 1253, 38, 15, 16, 1263, 18, 19, 20, 21, 22, 23, 24, 1113, 26, 55, 1111, 637, 857, 863]\nTarget entity type: deal\nTarget entity id:   225597\n\n\n\nEvent number: 48\nTimestamp:          2017-07-26 10:21:15.437000\nDuration:           28\nEntity type:        user\nEvent type:         list\nCategories:         [26]\nTarget entity type: category\nTarget entity id:   26\n\n\n\nEvent number: 49\nTimestamp:          2017-07-26 10:21:43.901000\nDuration:           49\nEntity type:        user\nEvent type:         view\nCategories:         [3, 637, 1159, 15, 16, 18, 19, 20, 21, 22, 23, 24, 26, 38, 55, 57, 323, 973, 1231, 1111, 857, 1113, 859, 1253, 615, 871, 1263, 1277]\nTarget entity type: deal\nTarget entity id:   217289\n\n\n\n\n\nTotal time for creating users: 7731.941513061523\n"
     ]
    }
   ],
   "source": [
    "raw_user_creation_start = time.time()\n",
    "User.create_and_save_all_users()\n",
    "raw_user_creation_end = time.time()\n",
    "print('Total time for creating users: {}'.format(\n",
    "    str(raw_user_creation_end-raw_user_creation_start))\n",
    ")"
   ]
  },
  {
   "cell_type": "heading",
   "metadata": {},
   "level": 1,
   "source": [
    "Prepare data for normalization"
   ]
  },
  {
   "cell_type": "code",
   "execution_count": 18,
   "metadata": {
    "collapsed": false
   },
   "outputs": [],
   "source": [
    "vector.save_normalization_values()"
   ]
  },
  {
   "cell_type": "markdown",
   "metadata": {},
   "source": [
    "Create input and target vectors"
   ]
  },
  {
   "cell_type": "code",
   "execution_count": 19,
   "metadata": {
    "collapsed": true
   },
   "outputs": [
    {
     "name": "stdout",
     "output_type": "stream",
     "text": [
      "/Users/michalfasanek/PycharmProjects/DiplomaThesis/users/pickled_users_104\n"
     ]
    },
    {
     "name": "stdout",
     "output_type": "stream",
     "text": [
      "Pickling 500 vectors\n"
     ]
    },
    {
     "name": "stdout",
     "output_type": "stream",
     "text": [
      "/Users/michalfasanek/PycharmProjects/DiplomaThesis/users/pickled_users_38\n"
     ]
    },
    {
     "name": "stdout",
     "output_type": "stream",
     "text": [
      "Pickling 500 vectors\n"
     ]
    },
    {
     "name": "stdout",
     "output_type": "stream",
     "text": [
      "/Users/michalfasanek/PycharmProjects/DiplomaThesis/users/pickled_users_103\n"
     ]
    },
    {
     "name": "stdout",
     "output_type": "stream",
     "text": [
      "Pickling 500 vectors\n"
     ]
    },
    {
     "name": "stdout",
     "output_type": "stream",
     "text": [
      "/Users/michalfasanek/PycharmProjects/DiplomaThesis/users/pickled_users_135\n"
     ]
    },
    {
     "name": "stdout",
     "output_type": "stream",
     "text": [
      "Pickling 500 vectors\n"
     ]
    },
    {
     "name": "stdout",
     "output_type": "stream",
     "text": [
      "/Users/michalfasanek/PycharmProjects/DiplomaThesis/users/pickled_users_31\n"
     ]
    },
    {
     "name": "stdout",
     "output_type": "stream",
     "text": [
      "Pickling 500 vectors\n"
     ]
    },
    {
     "name": "stdout",
     "output_type": "stream",
     "text": [
      "/Users/michalfasanek/PycharmProjects/DiplomaThesis/users/pickled_users_132\n"
     ]
    },
    {
     "name": "stdout",
     "output_type": "stream",
     "text": [
      "Pickling 500 vectors\n"
     ]
    },
    {
     "name": "stdout",
     "output_type": "stream",
     "text": [
      "/Users/michalfasanek/PycharmProjects/DiplomaThesis/users/pickled_users_36\n"
     ]
    },
    {
     "name": "stdout",
     "output_type": "stream",
     "text": [
      "Pickling 500 vectors\n"
     ]
    },
    {
     "name": "stdout",
     "output_type": "stream",
     "text": [
      "/Users/michalfasanek/PycharmProjects/DiplomaThesis/users/pickled_users_96\n"
     ]
    },
    {
     "name": "stdout",
     "output_type": "stream",
     "text": [
      "Pickling 500 vectors\n"
     ]
    },
    {
     "name": "stdout",
     "output_type": "stream",
     "text": [
      "/Users/michalfasanek/PycharmProjects/DiplomaThesis/users/pickled_users_62\n"
     ]
    },
    {
     "name": "stdout",
     "output_type": "stream",
     "text": [
      "Pickling 500 vectors\n"
     ]
    },
    {
     "name": "stdout",
     "output_type": "stream",
     "text": [
      "/Users/michalfasanek/PycharmProjects/DiplomaThesis/users/pickled_users_65\n"
     ]
    },
    {
     "name": "stdout",
     "output_type": "stream",
     "text": [
      "Pickling 500 vectors\n"
     ]
    },
    {
     "name": "stdout",
     "output_type": "stream",
     "text": [
      "/Users/michalfasanek/PycharmProjects/DiplomaThesis/users/pickled_users_91\n"
     ]
    },
    {
     "name": "stdout",
     "output_type": "stream",
     "text": [
      "Pickling 500 vectors\n"
     ]
    },
    {
     "name": "stdout",
     "output_type": "stream",
     "text": [
      "/Users/michalfasanek/PycharmProjects/DiplomaThesis/users/pickled_users_53\n"
     ]
    },
    {
     "name": "stdout",
     "output_type": "stream",
     "text": [
      "Pickling 500 vectors\n"
     ]
    },
    {
     "name": "stdout",
     "output_type": "stream",
     "text": [
      "/Users/michalfasanek/PycharmProjects/DiplomaThesis/users/pickled_users_98\n"
     ]
    },
    {
     "name": "stdout",
     "output_type": "stream",
     "text": [
      "Pickling 500 vectors\n"
     ]
    },
    {
     "name": "stdout",
     "output_type": "stream",
     "text": [
      "/Users/michalfasanek/PycharmProjects/DiplomaThesis/users/pickled_users_54\n"
     ]
    },
    {
     "name": "stdout",
     "output_type": "stream",
     "text": [
      "Pickling 500 vectors\n"
     ]
    },
    {
     "name": "stdout",
     "output_type": "stream",
     "text": [
      "/Users/michalfasanek/PycharmProjects/DiplomaThesis/users/pickled_users_150\n"
     ]
    },
    {
     "name": "stdout",
     "output_type": "stream",
     "text": [
      "Pickling 500 vectors\n"
     ]
    },
    {
     "name": "stdout",
     "output_type": "stream",
     "text": [
      "/Users/michalfasanek/PycharmProjects/DiplomaThesis/users/pickled_users_133\n"
     ]
    },
    {
     "name": "stdout",
     "output_type": "stream",
     "text": [
      "Pickling 500 vectors\n"
     ]
    },
    {
     "name": "stdout",
     "output_type": "stream",
     "text": [
      "/Users/michalfasanek/PycharmProjects/DiplomaThesis/users/pickled_users_37\n"
     ]
    },
    {
     "name": "stdout",
     "output_type": "stream",
     "text": [
      "Pickling 500 vectors\n"
     ]
    },
    {
     "name": "stdout",
     "output_type": "stream",
     "text": [
      "/Users/michalfasanek/PycharmProjects/DiplomaThesis/users/pickled_users_134\n"
     ]
    },
    {
     "name": "stdout",
     "output_type": "stream",
     "text": [
      "Pickling 500 vectors\n"
     ]
    },
    {
     "name": "stdout",
     "output_type": "stream",
     "text": [
      "/Users/michalfasanek/PycharmProjects/DiplomaThesis/users/pickled_users_30\n"
     ]
    },
    {
     "name": "stdout",
     "output_type": "stream",
     "text": [
      "Pickling 500 vectors\n"
     ]
    },
    {
     "name": "stdout",
     "output_type": "stream",
     "text": [
      "/Users/michalfasanek/PycharmProjects/DiplomaThesis/users/pickled_users_39\n"
     ]
    },
    {
     "name": "stdout",
     "output_type": "stream",
     "text": [
      "Pickling 500 vectors\n"
     ]
    },
    {
     "name": "stdout",
     "output_type": "stream",
     "text": [
      "/Users/michalfasanek/PycharmProjects/DiplomaThesis/users/pickled_users_102\n"
     ]
    },
    {
     "name": "stdout",
     "output_type": "stream",
     "text": [
      "Pickling 500 vectors\n"
     ]
    },
    {
     "name": "stdout",
     "output_type": "stream",
     "text": [
      "/Users/michalfasanek/PycharmProjects/DiplomaThesis/users/pickled_users_105\n"
     ]
    },
    {
     "name": "stdout",
     "output_type": "stream",
     "text": [
      "Pickling 500 vectors\n"
     ]
    },
    {
     "name": "stdout",
     "output_type": "stream",
     "text": [
      "/Users/michalfasanek/PycharmProjects/DiplomaThesis/users/pickled_users_55\n"
     ]
    },
    {
     "name": "stdout",
     "output_type": "stream",
     "text": [
      "Pickling 500 vectors\n"
     ]
    },
    {
     "name": "stdout",
     "output_type": "stream",
     "text": [
      "/Users/michalfasanek/PycharmProjects/DiplomaThesis/users/pickled_users_151\n"
     ]
    },
    {
     "name": "stdout",
     "output_type": "stream",
     "text": [
      "Pickling 500 vectors\n"
     ]
    },
    {
     "name": "stdout",
     "output_type": "stream",
     "text": [
      "/Users/michalfasanek/PycharmProjects/DiplomaThesis/users/pickled_users_52\n"
     ]
    },
    {
     "name": "stdout",
     "output_type": "stream",
     "text": [
      "Pickling 500 vectors\n"
     ]
    },
    {
     "name": "stdout",
     "output_type": "stream",
     "text": [
      "/Users/michalfasanek/PycharmProjects/DiplomaThesis/users/pickled_users_99\n"
     ]
    },
    {
     "name": "stdout",
     "output_type": "stream",
     "text": [
      "Pickling 500 vectors\n"
     ]
    },
    {
     "name": "stdout",
     "output_type": "stream",
     "text": [
      "/Users/michalfasanek/PycharmProjects/DiplomaThesis/users/pickled_users_90\n"
     ]
    },
    {
     "name": "stdout",
     "output_type": "stream",
     "text": [
      "Pickling 500 vectors\n"
     ]
    },
    {
     "name": "stdout",
     "output_type": "stream",
     "text": [
      "/Users/michalfasanek/PycharmProjects/DiplomaThesis/users/pickled_users_64\n"
     ]
    },
    {
     "name": "stdout",
     "output_type": "stream",
     "text": [
      "Pickling 500 vectors\n"
     ]
    },
    {
     "name": "stdout",
     "output_type": "stream",
     "text": [
      "/Users/michalfasanek/PycharmProjects/DiplomaThesis/users/pickled_users_63\n"
     ]
    },
    {
     "name": "stdout",
     "output_type": "stream",
     "text": [
      "Pickling 500 vectors\n"
     ]
    },
    {
     "name": "stdout",
     "output_type": "stream",
     "text": [
      "/Users/michalfasanek/PycharmProjects/DiplomaThesis/users/pickled_users_97\n"
     ]
    },
    {
     "name": "stdout",
     "output_type": "stream",
     "text": [
      "Pickling 500 vectors\n"
     ]
    },
    {
     "name": "stdout",
     "output_type": "stream",
     "text": [
      "/Users/michalfasanek/PycharmProjects/DiplomaThesis/users/pickled_users_5\n"
     ]
    },
    {
     "name": "stdout",
     "output_type": "stream",
     "text": [
      "Pickling 500 vectors\n"
     ]
    },
    {
     "name": "stdout",
     "output_type": "stream",
     "text": [
      "/Users/michalfasanek/PycharmProjects/DiplomaThesis/users/pickled_users_2\n"
     ]
    },
    {
     "name": "stdout",
     "output_type": "stream",
     "text": [
      "Pickling 500 vectors\n"
     ]
    },
    {
     "name": "stdout",
     "output_type": "stream",
     "text": [
      "/Users/michalfasanek/PycharmProjects/DiplomaThesis/users/pickled_users_3\n"
     ]
    },
    {
     "name": "stdout",
     "output_type": "stream",
     "text": [
      "Pickling 500 vectors\n"
     ]
    },
    {
     "name": "stdout",
     "output_type": "stream",
     "text": [
      "/Users/michalfasanek/PycharmProjects/DiplomaThesis/users/pickled_users_4\n"
     ]
    },
    {
     "name": "stdout",
     "output_type": "stream",
     "text": [
      "Pickling 500 vectors\n"
     ]
    },
    {
     "name": "stdout",
     "output_type": "stream",
     "text": [
      "/Users/michalfasanek/PycharmProjects/DiplomaThesis/users/pickled_users_145\n"
     ]
    },
    {
     "name": "stdout",
     "output_type": "stream",
     "text": [
      "Pickling 500 vectors\n"
     ]
    },
    {
     "name": "stdout",
     "output_type": "stream",
     "text": [
      "/Users/michalfasanek/PycharmProjects/DiplomaThesis/users/pickled_users_41\n"
     ]
    },
    {
     "name": "stdout",
     "output_type": "stream",
     "text": [
      "Pickling 500 vectors\n"
     ]
    },
    {
     "name": "stdout",
     "output_type": "stream",
     "text": [
      "/Users/michalfasanek/PycharmProjects/DiplomaThesis/users/pickled_users_79\n"
     ]
    },
    {
     "name": "stdout",
     "output_type": "stream",
     "text": [
      "Pickling 500 vectors\n"
     ]
    },
    {
     "name": "stdout",
     "output_type": "stream",
     "text": [
      "/Users/michalfasanek/PycharmProjects/DiplomaThesis/users/pickled_users_142\n"
     ]
    },
    {
     "name": "stdout",
     "output_type": "stream",
     "text": [
      "Pickling 500 vectors\n"
     ]
    },
    {
     "name": "stdout",
     "output_type": "stream",
     "text": [
      "/Users/michalfasanek/PycharmProjects/DiplomaThesis/users/pickled_users_46\n"
     ]
    },
    {
     "name": "stdout",
     "output_type": "stream",
     "text": [
      "Pickling 500 vectors\n"
     ]
    },
    {
     "name": "stdout",
     "output_type": "stream",
     "text": [
      "/Users/michalfasanek/PycharmProjects/DiplomaThesis/users/pickled_users_84\n"
     ]
    },
    {
     "name": "stdout",
     "output_type": "stream",
     "text": [
      "Pickling 500 vectors\n"
     ]
    },
    {
     "name": "stdout",
     "output_type": "stream",
     "text": [
      "/Users/michalfasanek/PycharmProjects/DiplomaThesis/users/pickled_users_70\n"
     ]
    },
    {
     "name": "stdout",
     "output_type": "stream",
     "text": [
      "Pickling 500 vectors\n"
     ]
    },
    {
     "name": "stdout",
     "output_type": "stream",
     "text": [
      "/Users/michalfasanek/PycharmProjects/DiplomaThesis/users/pickled_users_48\n"
     ]
    },
    {
     "name": "stdout",
     "output_type": "stream",
     "text": [
      "Pickling 500 vectors\n"
     ]
    },
    {
     "name": "stdout",
     "output_type": "stream",
     "text": [
      "/Users/michalfasanek/PycharmProjects/DiplomaThesis/users/pickled_users_77\n"
     ]
    },
    {
     "name": "stdout",
     "output_type": "stream",
     "text": [
      "Pickling 500 vectors\n"
     ]
    },
    {
     "name": "stdout",
     "output_type": "stream",
     "text": [
      "/Users/michalfasanek/PycharmProjects/DiplomaThesis/users/pickled_users_83\n"
     ]
    },
    {
     "name": "stdout",
     "output_type": "stream",
     "text": [
      "Pickling 500 vectors\n"
     ]
    },
    {
     "name": "stdout",
     "output_type": "stream",
     "text": [
      "/Users/michalfasanek/PycharmProjects/DiplomaThesis/users/pickled_users_118\n"
     ]
    },
    {
     "name": "stdout",
     "output_type": "stream",
     "text": [
      "Pickling 500 vectors\n"
     ]
    },
    {
     "name": "stdout",
     "output_type": "stream",
     "text": [
      "/Users/michalfasanek/PycharmProjects/DiplomaThesis/users/pickled_users_23\n"
     ]
    },
    {
     "name": "stdout",
     "output_type": "stream",
     "text": [
      "Pickling 500 vectors\n"
     ]
    },
    {
     "name": "stdout",
     "output_type": "stream",
     "text": [
      "/Users/michalfasanek/PycharmProjects/DiplomaThesis/users/pickled_users_127\n"
     ]
    },
    {
     "name": "stdout",
     "output_type": "stream",
     "text": [
      "Pickling 500 vectors\n"
     ]
    },
    {
     "name": "stdout",
     "output_type": "stream",
     "text": [
      "/Users/michalfasanek/PycharmProjects/DiplomaThesis/users/pickled_users_24\n"
     ]
    },
    {
     "name": "stdout",
     "output_type": "stream",
     "text": [
      "Pickling 500 vectors\n"
     ]
    },
    {
     "name": "stdout",
     "output_type": "stream",
     "text": [
      "/Users/michalfasanek/PycharmProjects/DiplomaThesis/users/pickled_users_120\n"
     ]
    },
    {
     "name": "stdout",
     "output_type": "stream",
     "text": [
      "Pickling 500 vectors\n"
     ]
    },
    {
     "name": "stdout",
     "output_type": "stream",
     "text": [
      "/Users/michalfasanek/PycharmProjects/DiplomaThesis/users/pickled_users_129\n"
     ]
    },
    {
     "name": "stdout",
     "output_type": "stream",
     "text": [
      "Pickling 500 vectors\n"
     ]
    },
    {
     "name": "stdout",
     "output_type": "stream",
     "text": [
      "/Users/michalfasanek/PycharmProjects/DiplomaThesis/users/pickled_users_12\n"
     ]
    },
    {
     "name": "stdout",
     "output_type": "stream",
     "text": [
      "Pickling 500 vectors\n"
     ]
    },
    {
     "name": "stdout",
     "output_type": "stream",
     "text": [
      "/Users/michalfasanek/PycharmProjects/DiplomaThesis/users/pickled_users_116\n"
     ]
    },
    {
     "name": "stdout",
     "output_type": "stream",
     "text": [
      "Pickling 500 vectors\n"
     ]
    },
    {
     "name": "stdout",
     "output_type": "stream",
     "text": [
      "/Users/michalfasanek/PycharmProjects/DiplomaThesis/users/pickled_users_15\n"
     ]
    },
    {
     "name": "stdout",
     "output_type": "stream",
     "text": [
      "Pickling 500 vectors\n"
     ]
    },
    {
     "name": "stdout",
     "output_type": "stream",
     "text": [
      "/Users/michalfasanek/PycharmProjects/DiplomaThesis/users/pickled_users_111\n"
     ]
    },
    {
     "name": "stdout",
     "output_type": "stream",
     "text": [
      "Pickling 500 vectors\n"
     ]
    },
    {
     "name": "stdout",
     "output_type": "stream",
     "text": [
      "/Users/michalfasanek/PycharmProjects/DiplomaThesis/users/pickled_users_49\n"
     ]
    },
    {
     "name": "stdout",
     "output_type": "stream",
     "text": [
      "Pickling 500 vectors\n"
     ]
    },
    {
     "name": "stdout",
     "output_type": "stream",
     "text": [
      "/Users/michalfasanek/PycharmProjects/DiplomaThesis/users/pickled_users_82\n"
     ]
    },
    {
     "name": "stdout",
     "output_type": "stream",
     "text": [
      "Pickling 500 vectors\n"
     ]
    },
    {
     "name": "stdout",
     "output_type": "stream",
     "text": [
      "/Users/michalfasanek/PycharmProjects/DiplomaThesis/users/pickled_users_76\n"
     ]
    },
    {
     "name": "stdout",
     "output_type": "stream",
     "text": [
      "Pickling 500 vectors\n"
     ]
    },
    {
     "name": "stdout",
     "output_type": "stream",
     "text": [
      "/Users/michalfasanek/PycharmProjects/DiplomaThesis/users/pickled_users_71\n"
     ]
    },
    {
     "name": "stdout",
     "output_type": "stream",
     "text": [
      "Pickling 500 vectors\n"
     ]
    },
    {
     "name": "stdout",
     "output_type": "stream",
     "text": [
      "/Users/michalfasanek/PycharmProjects/DiplomaThesis/users/pickled_users_85\n"
     ]
    },
    {
     "name": "stdout",
     "output_type": "stream",
     "text": [
      "Pickling 500 vectors\n"
     ]
    },
    {
     "name": "stdout",
     "output_type": "stream",
     "text": [
      "/Users/michalfasanek/PycharmProjects/DiplomaThesis/users/pickled_users_78\n"
     ]
    },
    {
     "name": "stdout",
     "output_type": "stream",
     "text": [
      "Pickling 500 vectors\n"
     ]
    },
    {
     "name": "stdout",
     "output_type": "stream",
     "text": [
      "/Users/michalfasanek/PycharmProjects/DiplomaThesis/users/pickled_users_143\n"
     ]
    },
    {
     "name": "stdout",
     "output_type": "stream",
     "text": [
      "Pickling 500 vectors\n"
     ]
    },
    {
     "name": "stdout",
     "output_type": "stream",
     "text": [
      "/Users/michalfasanek/PycharmProjects/DiplomaThesis/users/pickled_users_47\n"
     ]
    },
    {
     "name": "stdout",
     "output_type": "stream",
     "text": [
      "Pickling 500 vectors\n"
     ]
    },
    {
     "name": "stdout",
     "output_type": "stream",
     "text": [
      "/Users/michalfasanek/PycharmProjects/DiplomaThesis/users/pickled_users_144\n"
     ]
    },
    {
     "name": "stdout",
     "output_type": "stream",
     "text": [
      "Pickling 500 vectors\n"
     ]
    },
    {
     "name": "stdout",
     "output_type": "stream",
     "text": [
      "/Users/michalfasanek/PycharmProjects/DiplomaThesis/users/pickled_users_40\n"
     ]
    },
    {
     "name": "stdout",
     "output_type": "stream",
     "text": [
      "Pickling 500 vectors\n"
     ]
    },
    {
     "name": "stdout",
     "output_type": "stream",
     "text": [
      "/Users/michalfasanek/PycharmProjects/DiplomaThesis/users/pickled_users_14\n"
     ]
    },
    {
     "name": "stdout",
     "output_type": "stream",
     "text": [
      "Pickling 500 vectors\n"
     ]
    },
    {
     "name": "stdout",
     "output_type": "stream",
     "text": [
      "/Users/michalfasanek/PycharmProjects/DiplomaThesis/users/pickled_users_110\n"
     ]
    },
    {
     "name": "stdout",
     "output_type": "stream",
     "text": [
      "Pickling 500 vectors\n"
     ]
    },
    {
     "name": "stdout",
     "output_type": "stream",
     "text": [
      "/Users/michalfasanek/PycharmProjects/DiplomaThesis/users/pickled_users_128\n"
     ]
    },
    {
     "name": "stdout",
     "output_type": "stream",
     "text": [
      "Pickling 500 vectors\n"
     ]
    },
    {
     "name": "stdout",
     "output_type": "stream",
     "text": [
      "/Users/michalfasanek/PycharmProjects/DiplomaThesis/users/pickled_users_13\n"
     ]
    },
    {
     "name": "stdout",
     "output_type": "stream",
     "text": [
      "Pickling 500 vectors\n"
     ]
    },
    {
     "name": "stdout",
     "output_type": "stream",
     "text": [
      "/Users/michalfasanek/PycharmProjects/DiplomaThesis/users/pickled_users_117\n"
     ]
    },
    {
     "name": "stdout",
     "output_type": "stream",
     "text": [
      "Pickling 500 vectors\n"
     ]
    },
    {
     "name": "stdout",
     "output_type": "stream",
     "text": [
      "/Users/michalfasanek/PycharmProjects/DiplomaThesis/users/pickled_users_25\n"
     ]
    },
    {
     "name": "stdout",
     "output_type": "stream",
     "text": [
      "Pickling 500 vectors\n"
     ]
    },
    {
     "name": "stdout",
     "output_type": "stream",
     "text": [
      "/Users/michalfasanek/PycharmProjects/DiplomaThesis/users/pickled_users_121\n"
     ]
    },
    {
     "name": "stdout",
     "output_type": "stream",
     "text": [
      "Pickling 500 vectors\n"
     ]
    },
    {
     "name": "stdout",
     "output_type": "stream",
     "text": [
      "/Users/michalfasanek/PycharmProjects/DiplomaThesis/users/pickled_users_119\n"
     ]
    },
    {
     "name": "stdout",
     "output_type": "stream",
     "text": [
      "Pickling 500 vectors\n"
     ]
    },
    {
     "name": "stdout",
     "output_type": "stream",
     "text": [
      "/Users/michalfasanek/PycharmProjects/DiplomaThesis/users/pickled_users_22\n"
     ]
    },
    {
     "name": "stdout",
     "output_type": "stream",
     "text": [
      "Pickling 500 vectors\n"
     ]
    },
    {
     "name": "stdout",
     "output_type": "stream",
     "text": [
      "/Users/michalfasanek/PycharmProjects/DiplomaThesis/users/pickled_users_126\n"
     ]
    },
    {
     "name": "stdout",
     "output_type": "stream",
     "text": [
      "Pickling 500 vectors\n"
     ]
    },
    {
     "name": "stdout",
     "output_type": "stream",
     "text": [
      "/Users/michalfasanek/PycharmProjects/DiplomaThesis/users/pickled_users_66\n"
     ]
    },
    {
     "name": "stdout",
     "output_type": "stream",
     "text": [
      "Pickling 500 vectors\n"
     ]
    },
    {
     "name": "stdout",
     "output_type": "stream",
     "text": [
      "/Users/michalfasanek/PycharmProjects/DiplomaThesis/users/pickled_users_92\n"
     ]
    },
    {
     "name": "stdout",
     "output_type": "stream",
     "text": [
      "Pickling 500 vectors\n"
     ]
    },
    {
     "name": "stdout",
     "output_type": "stream",
     "text": [
      "/Users/michalfasanek/PycharmProjects/DiplomaThesis/users/pickled_users_59\n"
     ]
    },
    {
     "name": "stdout",
     "output_type": "stream",
     "text": [
      "Pickling 500 vectors\n"
     ]
    },
    {
     "name": "stdout",
     "output_type": "stream",
     "text": [
      "/Users/michalfasanek/PycharmProjects/DiplomaThesis/users/pickled_users_95\n"
     ]
    },
    {
     "name": "stdout",
     "output_type": "stream",
     "text": [
      "Pickling 500 vectors\n"
     ]
    },
    {
     "name": "stdout",
     "output_type": "stream",
     "text": [
      "/Users/michalfasanek/PycharmProjects/DiplomaThesis/users/pickled_users_61\n"
     ]
    },
    {
     "name": "stdout",
     "output_type": "stream",
     "text": [
      "Pickling 500 vectors\n"
     ]
    },
    {
     "name": "stdout",
     "output_type": "stream",
     "text": [
      "/Users/michalfasanek/PycharmProjects/DiplomaThesis/users/pickled_users_57\n"
     ]
    },
    {
     "name": "stdout",
     "output_type": "stream",
     "text": [
      "Pickling 500 vectors\n"
     ]
    },
    {
     "name": "stdout",
     "output_type": "stream",
     "text": [
      "/Users/michalfasanek/PycharmProjects/DiplomaThesis/users/pickled_users_153\n"
     ]
    },
    {
     "name": "stdout",
     "output_type": "stream",
     "text": [
      "Pickling 101 vectors\n/Users/michalfasanek/PycharmProjects/DiplomaThesis/users/pickled_users_68\n"
     ]
    },
    {
     "name": "stdout",
     "output_type": "stream",
     "text": [
      "Pickling 500 vectors\n"
     ]
    },
    {
     "name": "stdout",
     "output_type": "stream",
     "text": [
      "/Users/michalfasanek/PycharmProjects/DiplomaThesis/users/pickled_users_50\n"
     ]
    },
    {
     "name": "stdout",
     "output_type": "stream",
     "text": [
      "Pickling 500 vectors\n"
     ]
    },
    {
     "name": "stdout",
     "output_type": "stream",
     "text": [
      "/Users/michalfasanek/PycharmProjects/DiplomaThesis/users/pickled_users_100\n"
     ]
    },
    {
     "name": "stdout",
     "output_type": "stream",
     "text": [
      "Pickling 500 vectors\n"
     ]
    },
    {
     "name": "stdout",
     "output_type": "stream",
     "text": [
      "/Users/michalfasanek/PycharmProjects/DiplomaThesis/users/pickled_users_107\n"
     ]
    },
    {
     "name": "stdout",
     "output_type": "stream",
     "text": [
      "Pickling 500 vectors\n"
     ]
    },
    {
     "name": "stdout",
     "output_type": "stream",
     "text": [
      "/Users/michalfasanek/PycharmProjects/DiplomaThesis/users/pickled_users_138\n"
     ]
    },
    {
     "name": "stdout",
     "output_type": "stream",
     "text": [
      "Pickling 500 vectors\n"
     ]
    },
    {
     "name": "stdout",
     "output_type": "stream",
     "text": [
      "/Users/michalfasanek/PycharmProjects/DiplomaThesis/users/pickled_users_131\n"
     ]
    },
    {
     "name": "stdout",
     "output_type": "stream",
     "text": [
      "Pickling 500 vectors\n"
     ]
    },
    {
     "name": "stdout",
     "output_type": "stream",
     "text": [
      "/Users/michalfasanek/PycharmProjects/DiplomaThesis/users/pickled_users_35\n"
     ]
    },
    {
     "name": "stdout",
     "output_type": "stream",
     "text": [
      "Pickling 500 vectors\n"
     ]
    },
    {
     "name": "stdout",
     "output_type": "stream",
     "text": [
      "/Users/michalfasanek/PycharmProjects/DiplomaThesis/users/pickled_users_136\n"
     ]
    },
    {
     "name": "stdout",
     "output_type": "stream",
     "text": [
      "Pickling 500 vectors\n"
     ]
    },
    {
     "name": "stdout",
     "output_type": "stream",
     "text": [
      "/Users/michalfasanek/PycharmProjects/DiplomaThesis/users/pickled_users_32\n"
     ]
    },
    {
     "name": "stdout",
     "output_type": "stream",
     "text": [
      "Pickling 500 vectors\n"
     ]
    },
    {
     "name": "stdout",
     "output_type": "stream",
     "text": [
      "/Users/michalfasanek/PycharmProjects/DiplomaThesis/users/pickled_users_109\n"
     ]
    },
    {
     "name": "stdout",
     "output_type": "stream",
     "text": [
      "Pickling 500 vectors\n"
     ]
    },
    {
     "name": "stdout",
     "output_type": "stream",
     "text": [
      "/Users/michalfasanek/PycharmProjects/DiplomaThesis/users/pickled_users_51\n"
     ]
    },
    {
     "name": "stdout",
     "output_type": "stream",
     "text": [
      "Pickling 500 vectors\n"
     ]
    },
    {
     "name": "stdout",
     "output_type": "stream",
     "text": [
      "/Users/michalfasanek/PycharmProjects/DiplomaThesis/users/pickled_users_56\n"
     ]
    },
    {
     "name": "stdout",
     "output_type": "stream",
     "text": [
      "Pickling 500 vectors\n"
     ]
    },
    {
     "name": "stdout",
     "output_type": "stream",
     "text": [
      "/Users/michalfasanek/PycharmProjects/DiplomaThesis/users/pickled_users_152\n"
     ]
    },
    {
     "name": "stdout",
     "output_type": "stream",
     "text": [
      "Pickling 500 vectors\n"
     ]
    },
    {
     "name": "stdout",
     "output_type": "stream",
     "text": [
      "/Users/michalfasanek/PycharmProjects/DiplomaThesis/users/pickled_users_69\n"
     ]
    },
    {
     "name": "stdout",
     "output_type": "stream",
     "text": [
      "Pickling 500 vectors\n"
     ]
    },
    {
     "name": "stdout",
     "output_type": "stream",
     "text": [
      "/Users/michalfasanek/PycharmProjects/DiplomaThesis/users/pickled_users_60\n"
     ]
    },
    {
     "name": "stdout",
     "output_type": "stream",
     "text": [
      "Pickling 500 vectors\n"
     ]
    },
    {
     "name": "stdout",
     "output_type": "stream",
     "text": [
      "/Users/michalfasanek/PycharmProjects/DiplomaThesis/users/pickled_users_94\n"
     ]
    },
    {
     "name": "stdout",
     "output_type": "stream",
     "text": [
      "Pickling 500 vectors\n"
     ]
    },
    {
     "name": "stdout",
     "output_type": "stream",
     "text": [
      "/Users/michalfasanek/PycharmProjects/DiplomaThesis/users/pickled_users_93\n"
     ]
    },
    {
     "name": "stdout",
     "output_type": "stream",
     "text": [
      "Pickling 500 vectors\n"
     ]
    },
    {
     "name": "stdout",
     "output_type": "stream",
     "text": [
      "/Users/michalfasanek/PycharmProjects/DiplomaThesis/users/pickled_users_67\n"
     ]
    },
    {
     "name": "stdout",
     "output_type": "stream",
     "text": [
      "Pickling 500 vectors\n"
     ]
    },
    {
     "name": "stdout",
     "output_type": "stream",
     "text": [
      "/Users/michalfasanek/PycharmProjects/DiplomaThesis/users/pickled_users_58\n"
     ]
    },
    {
     "name": "stdout",
     "output_type": "stream",
     "text": [
      "Pickling 500 vectors\n"
     ]
    },
    {
     "name": "stdout",
     "output_type": "stream",
     "text": [
      "/Users/michalfasanek/PycharmProjects/DiplomaThesis/users/pickled_users_137\n"
     ]
    },
    {
     "name": "stdout",
     "output_type": "stream",
     "text": [
      "Pickling 500 vectors\n"
     ]
    },
    {
     "name": "stdout",
     "output_type": "stream",
     "text": [
      "/Users/michalfasanek/PycharmProjects/DiplomaThesis/users/pickled_users_33\n"
     ]
    },
    {
     "name": "stdout",
     "output_type": "stream",
     "text": [
      "Pickling 500 vectors\n"
     ]
    },
    {
     "name": "stdout",
     "output_type": "stream",
     "text": [
      "/Users/michalfasanek/PycharmProjects/DiplomaThesis/users/pickled_users_108\n"
     ]
    },
    {
     "name": "stdout",
     "output_type": "stream",
     "text": [
      "Pickling 500 vectors\n"
     ]
    },
    {
     "name": "stdout",
     "output_type": "stream",
     "text": [
      "/Users/michalfasanek/PycharmProjects/DiplomaThesis/users/pickled_users_130\n"
     ]
    },
    {
     "name": "stdout",
     "output_type": "stream",
     "text": [
      "Pickling 500 vectors\n"
     ]
    },
    {
     "name": "stdout",
     "output_type": "stream",
     "text": [
      "/Users/michalfasanek/PycharmProjects/DiplomaThesis/users/pickled_users_34\n"
     ]
    },
    {
     "name": "stdout",
     "output_type": "stream",
     "text": [
      "Pickling 500 vectors\n"
     ]
    },
    {
     "name": "stdout",
     "output_type": "stream",
     "text": [
      "/Users/michalfasanek/PycharmProjects/DiplomaThesis/users/pickled_users_106\n"
     ]
    },
    {
     "name": "stdout",
     "output_type": "stream",
     "text": [
      "Pickling 500 vectors\n"
     ]
    },
    {
     "name": "stdout",
     "output_type": "stream",
     "text": [
      "/Users/michalfasanek/PycharmProjects/DiplomaThesis/users/pickled_users_139\n"
     ]
    },
    {
     "name": "stdout",
     "output_type": "stream",
     "text": [
      "Pickling 500 vectors\n"
     ]
    },
    {
     "name": "stdout",
     "output_type": "stream",
     "text": [
      "/Users/michalfasanek/PycharmProjects/DiplomaThesis/users/pickled_users_101\n"
     ]
    },
    {
     "name": "stdout",
     "output_type": "stream",
     "text": [
      "Pickling 500 vectors\n"
     ]
    },
    {
     "name": "stdout",
     "output_type": "stream",
     "text": [
      "/Users/michalfasanek/PycharmProjects/DiplomaThesis/users/pickled_users_8\n"
     ]
    },
    {
     "name": "stdout",
     "output_type": "stream",
     "text": [
      "Pickling 500 vectors\n"
     ]
    },
    {
     "name": "stdout",
     "output_type": "stream",
     "text": [
      "/Users/michalfasanek/PycharmProjects/DiplomaThesis/users/pickled_users_1\n"
     ]
    },
    {
     "name": "stdout",
     "output_type": "stream",
     "text": [
      "Pickling 500 vectors\n"
     ]
    },
    {
     "name": "stdout",
     "output_type": "stream",
     "text": [
      "/Users/michalfasanek/PycharmProjects/DiplomaThesis/users/pickled_users_6\n"
     ]
    },
    {
     "name": "stdout",
     "output_type": "stream",
     "text": [
      "Pickling 500 vectors\n"
     ]
    },
    {
     "name": "stdout",
     "output_type": "stream",
     "text": [
      "/Users/michalfasanek/PycharmProjects/DiplomaThesis/users/pickled_users_7\n"
     ]
    },
    {
     "name": "stdout",
     "output_type": "stream",
     "text": [
      "Pickling 500 vectors\n"
     ]
    },
    {
     "name": "stdout",
     "output_type": "stream",
     "text": [
      "/Users/michalfasanek/PycharmProjects/DiplomaThesis/users/pickled_users_9\n"
     ]
    },
    {
     "name": "stdout",
     "output_type": "stream",
     "text": [
      "Pickling 500 vectors\n"
     ]
    },
    {
     "name": "stdout",
     "output_type": "stream",
     "text": [
      "/Users/michalfasanek/PycharmProjects/DiplomaThesis/users/pickled_users_27\n"
     ]
    },
    {
     "name": "stdout",
     "output_type": "stream",
     "text": [
      "Pickling 500 vectors\n"
     ]
    },
    {
     "name": "stdout",
     "output_type": "stream",
     "text": [
      "/Users/michalfasanek/PycharmProjects/DiplomaThesis/users/pickled_users_123\n"
     ]
    },
    {
     "name": "stdout",
     "output_type": "stream",
     "text": [
      "Pickling 500 vectors\n"
     ]
    },
    {
     "name": "stdout",
     "output_type": "stream",
     "text": [
      "/Users/michalfasanek/PycharmProjects/DiplomaThesis/users/pickled_users_18\n"
     ]
    },
    {
     "name": "stdout",
     "output_type": "stream",
     "text": [
      "Pickling 500 vectors\n"
     ]
    },
    {
     "name": "stdout",
     "output_type": "stream",
     "text": [
      "/Users/michalfasanek/PycharmProjects/DiplomaThesis/users/pickled_users_20\n"
     ]
    },
    {
     "name": "stdout",
     "output_type": "stream",
     "text": [
      "Pickling 500 vectors\n"
     ]
    },
    {
     "name": "stdout",
     "output_type": "stream",
     "text": [
      "/Users/michalfasanek/PycharmProjects/DiplomaThesis/users/pickled_users_124\n"
     ]
    },
    {
     "name": "stdout",
     "output_type": "stream",
     "text": [
      "Pickling 500 vectors\n"
     ]
    },
    {
     "name": "stdout",
     "output_type": "stream",
     "text": [
      "/Users/michalfasanek/PycharmProjects/DiplomaThesis/users/pickled_users_16\n"
     ]
    },
    {
     "name": "stdout",
     "output_type": "stream",
     "text": [
      "Pickling 500 vectors\n"
     ]
    },
    {
     "name": "stdout",
     "output_type": "stream",
     "text": [
      "/Users/michalfasanek/PycharmProjects/DiplomaThesis/users/pickled_users_112\n"
     ]
    },
    {
     "name": "stdout",
     "output_type": "stream",
     "text": [
      "Pickling 500 vectors\n"
     ]
    },
    {
     "name": "stdout",
     "output_type": "stream",
     "text": [
      "/Users/michalfasanek/PycharmProjects/DiplomaThesis/users/pickled_users_29\n"
     ]
    },
    {
     "name": "stdout",
     "output_type": "stream",
     "text": [
      "Pickling 500 vectors\n"
     ]
    },
    {
     "name": "stdout",
     "output_type": "stream",
     "text": [
      "/Users/michalfasanek/PycharmProjects/DiplomaThesis/users/pickled_users_11\n"
     ]
    },
    {
     "name": "stdout",
     "output_type": "stream",
     "text": [
      "Pickling 500 vectors\n"
     ]
    },
    {
     "name": "stdout",
     "output_type": "stream",
     "text": [
      "/Users/michalfasanek/PycharmProjects/DiplomaThesis/users/pickled_users_115\n"
     ]
    },
    {
     "name": "stdout",
     "output_type": "stream",
     "text": [
      "Pickling 500 vectors\n"
     ]
    },
    {
     "name": "stdout",
     "output_type": "stream",
     "text": [
      "/Users/michalfasanek/PycharmProjects/DiplomaThesis/users/pickled_users_141\n"
     ]
    },
    {
     "name": "stdout",
     "output_type": "stream",
     "text": [
      "Pickling 500 vectors\n"
     ]
    },
    {
     "name": "stdout",
     "output_type": "stream",
     "text": [
      "/Users/michalfasanek/PycharmProjects/DiplomaThesis/users/pickled_users_45\n"
     ]
    },
    {
     "name": "stdout",
     "output_type": "stream",
     "text": [
      "Pickling 500 vectors\n"
     ]
    },
    {
     "name": "stdout",
     "output_type": "stream",
     "text": [
      "/Users/michalfasanek/PycharmProjects/DiplomaThesis/users/pickled_users_146\n"
     ]
    },
    {
     "name": "stdout",
     "output_type": "stream",
     "text": [
      "Pickling 500 vectors\n"
     ]
    },
    {
     "name": "stdout",
     "output_type": "stream",
     "text": [
      "/Users/michalfasanek/PycharmProjects/DiplomaThesis/users/pickled_users_89\n"
     ]
    },
    {
     "name": "stdout",
     "output_type": "stream",
     "text": [
      "Pickling 500 vectors\n"
     ]
    },
    {
     "name": "stdout",
     "output_type": "stream",
     "text": [
      "/Users/michalfasanek/PycharmProjects/DiplomaThesis/users/pickled_users_42\n"
     ]
    },
    {
     "name": "stdout",
     "output_type": "stream",
     "text": [
      "Pickling 500 vectors\n"
     ]
    },
    {
     "name": "stdout",
     "output_type": "stream",
     "text": [
      "/Users/michalfasanek/PycharmProjects/DiplomaThesis/users/pickled_users_74\n"
     ]
    },
    {
     "name": "stdout",
     "output_type": "stream",
     "text": [
      "Pickling 500 vectors\n"
     ]
    },
    {
     "name": "stdout",
     "output_type": "stream",
     "text": [
      "/Users/michalfasanek/PycharmProjects/DiplomaThesis/users/pickled_users_80\n"
     ]
    },
    {
     "name": "stdout",
     "output_type": "stream",
     "text": [
      "Pickling 500 vectors\n"
     ]
    },
    {
     "name": "stdout",
     "output_type": "stream",
     "text": [
      "/Users/michalfasanek/PycharmProjects/DiplomaThesis/users/pickled_users_87\n"
     ]
    },
    {
     "name": "stdout",
     "output_type": "stream",
     "text": [
      "Pickling 500 vectors\n"
     ]
    },
    {
     "name": "stdout",
     "output_type": "stream",
     "text": [
      "/Users/michalfasanek/PycharmProjects/DiplomaThesis/users/pickled_users_73\n"
     ]
    },
    {
     "name": "stdout",
     "output_type": "stream",
     "text": [
      "Pickling 500 vectors\n"
     ]
    },
    {
     "name": "stdout",
     "output_type": "stream",
     "text": [
      "/Users/michalfasanek/PycharmProjects/DiplomaThesis/users/pickled_users_148\n"
     ]
    },
    {
     "name": "stdout",
     "output_type": "stream",
     "text": [
      "Pickling 500 vectors\n"
     ]
    },
    {
     "name": "stdout",
     "output_type": "stream",
     "text": [
      "/Users/michalfasanek/PycharmProjects/DiplomaThesis/users/pickled_users_10\n"
     ]
    },
    {
     "name": "stdout",
     "output_type": "stream",
     "text": [
      "Pickling 500 vectors\n"
     ]
    },
    {
     "name": "stdout",
     "output_type": "stream",
     "text": [
      "/Users/michalfasanek/PycharmProjects/DiplomaThesis/users/pickled_users_114\n"
     ]
    },
    {
     "name": "stdout",
     "output_type": "stream",
     "text": [
      "Pickling 500 vectors\n"
     ]
    },
    {
     "name": "stdout",
     "output_type": "stream",
     "text": [
      "/Users/michalfasanek/PycharmProjects/DiplomaThesis/users/pickled_users_17\n"
     ]
    },
    {
     "name": "stdout",
     "output_type": "stream",
     "text": [
      "Pickling 500 vectors\n"
     ]
    },
    {
     "name": "stdout",
     "output_type": "stream",
     "text": [
      "/Users/michalfasanek/PycharmProjects/DiplomaThesis/users/pickled_users_113\n"
     ]
    },
    {
     "name": "stdout",
     "output_type": "stream",
     "text": [
      "Pickling 500 vectors\n"
     ]
    },
    {
     "name": "stdout",
     "output_type": "stream",
     "text": [
      "/Users/michalfasanek/PycharmProjects/DiplomaThesis/users/pickled_users_28\n"
     ]
    },
    {
     "name": "stdout",
     "output_type": "stream",
     "text": [
      "Pickling 500 vectors\n"
     ]
    },
    {
     "name": "stdout",
     "output_type": "stream",
     "text": [
      "/Users/michalfasanek/PycharmProjects/DiplomaThesis/users/pickled_users_21\n"
     ]
    },
    {
     "name": "stdout",
     "output_type": "stream",
     "text": [
      "Pickling 500 vectors\n"
     ]
    },
    {
     "name": "stdout",
     "output_type": "stream",
     "text": [
      "/Users/michalfasanek/PycharmProjects/DiplomaThesis/users/pickled_users_125\n"
     ]
    },
    {
     "name": "stdout",
     "output_type": "stream",
     "text": [
      "Pickling 500 vectors\n"
     ]
    },
    {
     "name": "stdout",
     "output_type": "stream",
     "text": [
      "/Users/michalfasanek/PycharmProjects/DiplomaThesis/users/pickled_users_26\n"
     ]
    },
    {
     "name": "stdout",
     "output_type": "stream",
     "text": [
      "Pickling 500 vectors\n"
     ]
    },
    {
     "name": "stdout",
     "output_type": "stream",
     "text": [
      "/Users/michalfasanek/PycharmProjects/DiplomaThesis/users/pickled_users_122\n"
     ]
    },
    {
     "name": "stdout",
     "output_type": "stream",
     "text": [
      "Pickling 500 vectors\n"
     ]
    },
    {
     "name": "stdout",
     "output_type": "stream",
     "text": [
      "/Users/michalfasanek/PycharmProjects/DiplomaThesis/users/pickled_users_19\n"
     ]
    },
    {
     "name": "stdout",
     "output_type": "stream",
     "text": [
      "Pickling 500 vectors\n"
     ]
    },
    {
     "name": "stdout",
     "output_type": "stream",
     "text": [
      "/Users/michalfasanek/PycharmProjects/DiplomaThesis/users/pickled_users_72\n"
     ]
    },
    {
     "name": "stdout",
     "output_type": "stream",
     "text": [
      "Pickling 500 vectors\n"
     ]
    },
    {
     "name": "stdout",
     "output_type": "stream",
     "text": [
      "/Users/michalfasanek/PycharmProjects/DiplomaThesis/users/pickled_users_149\n"
     ]
    },
    {
     "name": "stdout",
     "output_type": "stream",
     "text": [
      "Pickling 500 vectors\n"
     ]
    },
    {
     "name": "stdout",
     "output_type": "stream",
     "text": [
      "/Users/michalfasanek/PycharmProjects/DiplomaThesis/users/pickled_users_86\n"
     ]
    },
    {
     "name": "stdout",
     "output_type": "stream",
     "text": [
      "Pickling 500 vectors\n"
     ]
    },
    {
     "name": "stdout",
     "output_type": "stream",
     "text": [
      "/Users/michalfasanek/PycharmProjects/DiplomaThesis/users/pickled_users_81\n"
     ]
    },
    {
     "name": "stdout",
     "output_type": "stream",
     "text": [
      "Pickling 500 vectors\n"
     ]
    },
    {
     "name": "stdout",
     "output_type": "stream",
     "text": [
      "/Users/michalfasanek/PycharmProjects/DiplomaThesis/users/pickled_users_75\n"
     ]
    },
    {
     "name": "stdout",
     "output_type": "stream",
     "text": [
      "Pickling 500 vectors\n"
     ]
    },
    {
     "name": "stdout",
     "output_type": "stream",
     "text": [
      "/Users/michalfasanek/PycharmProjects/DiplomaThesis/users/pickled_users_88\n"
     ]
    },
    {
     "name": "stdout",
     "output_type": "stream",
     "text": [
      "Pickling 500 vectors\n"
     ]
    },
    {
     "name": "stdout",
     "output_type": "stream",
     "text": [
      "/Users/michalfasanek/PycharmProjects/DiplomaThesis/users/pickled_users_147\n"
     ]
    },
    {
     "name": "stdout",
     "output_type": "stream",
     "text": [
      "Pickling 500 vectors\n"
     ]
    },
    {
     "name": "stdout",
     "output_type": "stream",
     "text": [
      "/Users/michalfasanek/PycharmProjects/DiplomaThesis/users/pickled_users_43\n"
     ]
    },
    {
     "name": "stdout",
     "output_type": "stream",
     "text": [
      "Pickling 500 vectors\n"
     ]
    },
    {
     "name": "stdout",
     "output_type": "stream",
     "text": [
      "/Users/michalfasanek/PycharmProjects/DiplomaThesis/users/pickled_users_140\n"
     ]
    },
    {
     "name": "stdout",
     "output_type": "stream",
     "text": [
      "Pickling 500 vectors\n"
     ]
    },
    {
     "name": "stdout",
     "output_type": "stream",
     "text": [
      "/Users/michalfasanek/PycharmProjects/DiplomaThesis/users/pickled_users_44\n"
     ]
    },
    {
     "name": "stdout",
     "output_type": "stream",
     "text": [
      "Pickling 500 vectors\n"
     ]
    },
    {
     "name": "stdout",
     "output_type": "stream",
     "text": [
      "Missing partners: \nset()\nMissing deals: \nset()\n"
     ]
    }
   ],
   "source": [
    "deals = Deal.load_all_deals()\n",
    "partners = Partner.load_all_partners()\n",
    "categories = Category.Category.load_categories()\n",
    "\n",
    "for filename in listdir(path.join(getcwd(), config.dir_users)):\n",
    "    print(path.join(getcwd(), config.dir_users, filename))\n",
    "    vector.create_userfile_vectors(filename, deals, partners, categories)\n",
    "            \n",
    "missing_deals, missing_partners = vector.get_not_matched()\n",
    "print('Missing partners: ')\n",
    "print(missing_partners)\n",
    "print('Missing deals: ')\n",
    "print(missing_deals)\n"
   ]
  },
  {
   "cell_type": "code",
   "execution_count": 3,
   "metadata": {
    "collapsed": true
   },
   "outputs": [
    {
     "name": "stdout",
     "output_type": "stream",
     "text": [
      "Training:   34500 vectors\nTesting:    9500 vectors\nValidation: 5500 vectors\n"
     ]
    },
    {
     "name": "stdout",
     "output_type": "stream",
     "text": [
      "25\n423\n7172\n[512, 512]\n"
     ]
    },
    {
     "ename": "ValueError",
     "evalue": "Cannot feed value of shape (12500, 7172) for Tensor 'Placeholder_2:0', which has shape '(500, 7172)'",
     "traceback": [
      "\u001b[0;31m---------------------------------------------------------------------------\u001b[0m",
      "\u001b[0;31mValueError\u001b[0m                                Traceback (most recent call last)",
      "\u001b[0;32m<ipython-input-3-ddca829c5803>\u001b[0m in \u001b[0;36m<module>\u001b[0;34m()\u001b[0m\n\u001b[0;32m----> 1\u001b[0;31m \u001b[0mlstm\u001b[0m\u001b[0;34m.\u001b[0m\u001b[0mrun_thesis\u001b[0m\u001b[0;34m(\u001b[0m\u001b[0;34m)\u001b[0m\u001b[0;34m\u001b[0m\u001b[0m\n\u001b[0m",
      "\u001b[0;32m~/PycharmProjects/DiplomaThesis/lstm.py\u001b[0m in \u001b[0;36mrun_thesis\u001b[0;34m()\u001b[0m\n\u001b[1;32m    189\u001b[0m                         \u001b[0mx\u001b[0m\u001b[0;34m:\u001b[0m \u001b[0mx_batch\u001b[0m\u001b[0;34m,\u001b[0m\u001b[0;34m\u001b[0m\u001b[0m\n\u001b[1;32m    190\u001b[0m                         \u001b[0my\u001b[0m\u001b[0;34m:\u001b[0m \u001b[0my_batch\u001b[0m\u001b[0;34m,\u001b[0m\u001b[0;34m\u001b[0m\u001b[0m\n\u001b[0;32m--> 191\u001b[0;31m                         \u001b[0my_steps\u001b[0m\u001b[0;34m:\u001b[0m \u001b[0mbatch_y_steps\u001b[0m\u001b[0;34m\u001b[0m\u001b[0m\n\u001b[0m\u001b[1;32m    192\u001b[0m                     }\n\u001b[1;32m    193\u001b[0m                 )\n",
      "\u001b[0;32m/usr/local/Cellar/python3/3.6.4_2/Frameworks/Python.framework/Versions/3.6/lib/python3.6/site-packages/tensorflow/python/client/session.py\u001b[0m in \u001b[0;36mrun\u001b[0;34m(self, fetches, feed_dict, options, run_metadata)\u001b[0m\n\u001b[1;32m    893\u001b[0m     \u001b[0;32mtry\u001b[0m\u001b[0;34m:\u001b[0m\u001b[0;34m\u001b[0m\u001b[0m\n\u001b[1;32m    894\u001b[0m       result = self._run(None, fetches, feed_dict, options_ptr,\n\u001b[0;32m--> 895\u001b[0;31m                          run_metadata_ptr)\n\u001b[0m\u001b[1;32m    896\u001b[0m       \u001b[0;32mif\u001b[0m \u001b[0mrun_metadata\u001b[0m\u001b[0;34m:\u001b[0m\u001b[0;34m\u001b[0m\u001b[0m\n\u001b[1;32m    897\u001b[0m         \u001b[0mproto_data\u001b[0m \u001b[0;34m=\u001b[0m \u001b[0mtf_session\u001b[0m\u001b[0;34m.\u001b[0m\u001b[0mTF_GetBuffer\u001b[0m\u001b[0;34m(\u001b[0m\u001b[0mrun_metadata_ptr\u001b[0m\u001b[0;34m)\u001b[0m\u001b[0;34m\u001b[0m\u001b[0m\n",
      "\u001b[0;32m/usr/local/Cellar/python3/3.6.4_2/Frameworks/Python.framework/Versions/3.6/lib/python3.6/site-packages/tensorflow/python/client/session.py\u001b[0m in \u001b[0;36m_run\u001b[0;34m(self, handle, fetches, feed_dict, options, run_metadata)\u001b[0m\n\u001b[1;32m   1102\u001b[0m                 \u001b[0;34m'Cannot feed value of shape %r for Tensor %r, '\u001b[0m\u001b[0;34m\u001b[0m\u001b[0m\n\u001b[1;32m   1103\u001b[0m                 \u001b[0;34m'which has shape %r'\u001b[0m\u001b[0;34m\u001b[0m\u001b[0m\n\u001b[0;32m-> 1104\u001b[0;31m                 % (np_val.shape, subfeed_t.name, str(subfeed_t.get_shape())))\n\u001b[0m\u001b[1;32m   1105\u001b[0m           \u001b[0;32mif\u001b[0m \u001b[0;32mnot\u001b[0m \u001b[0mself\u001b[0m\u001b[0;34m.\u001b[0m\u001b[0mgraph\u001b[0m\u001b[0;34m.\u001b[0m\u001b[0mis_feedable\u001b[0m\u001b[0;34m(\u001b[0m\u001b[0msubfeed_t\u001b[0m\u001b[0;34m)\u001b[0m\u001b[0;34m:\u001b[0m\u001b[0;34m\u001b[0m\u001b[0m\n\u001b[1;32m   1106\u001b[0m             \u001b[0;32mraise\u001b[0m \u001b[0mValueError\u001b[0m\u001b[0;34m(\u001b[0m\u001b[0;34m'Tensor %s may not be fed.'\u001b[0m \u001b[0;34m%\u001b[0m \u001b[0msubfeed_t\u001b[0m\u001b[0;34m)\u001b[0m\u001b[0;34m\u001b[0m\u001b[0m\n",
      "\u001b[0;31mValueError\u001b[0m: Cannot feed value of shape (12500, 7172) for Tensor 'Placeholder_2:0', which has shape '(500, 7172)'"
     ],
     "output_type": "error"
    }
   ],
   "source": [
    "lstm.run_thesis()"
   ]
  }
 ],
 "metadata": {
  "kernelspec": {
   "display_name": "Python 2",
   "language": "python",
   "name": "python2"
  },
  "language_info": {
   "codemirror_mode": {
    "name": "ipython",
    "version": 2
   },
   "file_extension": ".py",
   "mimetype": "text/x-python",
   "name": "python",
   "nbconvert_exporter": "python",
   "pygments_lexer": "ipython2",
   "version": "2.7.6"
  }
 },
 "nbformat": 4,
 "nbformat_minor": 0
}
