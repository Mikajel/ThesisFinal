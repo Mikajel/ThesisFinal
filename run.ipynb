{
 "cells": [
  {
   "cell_type": "code",
   "execution_count": null,
   "metadata": {},
   "outputs": [],
   "source": [
    "from os import getcwd, chdir, path\n",
    "import warnings\n",
    "%load_ext autoreload\n",
    "import tensorflow as tf\n",
    "import lstm\n",
    "warnings.filterwarnings(\"ignore\")\n",
    "\n",
    "chdir(\n",
    "    path.join(\n",
    "        path.expanduser('~'), \n",
    "        'PycharmProjects', \n",
    "        'DiplomaThesis'\n",
    "    )\n",
    ")\n",
    "print(getcwd())"
   ]
  },
  {
   "cell_type": "code",
   "execution_count": null,
   "metadata": {},
   "outputs": [],
   "source": [
    "dataset = lstm.load_dataset()"
   ]
  },
  {
   "cell_type": "code",
   "execution_count": null,
   "metadata": {},
   "outputs": [],
   "source": [
    "executions = [\n",
    "    {\n",
    "        'n_hidden_cells': 128, \n",
    "        'learning_rate': 0.005, \n",
    "        'alpha': 0.5, \n",
    "        'min_epoch_amount': 20,\n",
    "        'batch_size': 250,\n",
    "        'dropout_chance': 0.5,\n",
    "        'model_type': 'gru',\n",
    "        'optimizer_type': 'adam',\n",
    "        'use_class_weights': False,\n",
    "        'train': True\n",
    "    },\n",
    "    {\n",
    "        'n_hidden_cells': 128, \n",
    "        'learning_rate': 0.005, \n",
    "        'alpha': 0.5, \n",
    "        'min_epoch_amount': 20,\n",
    "        'batch_size': 250,\n",
    "        'dropout_chance': 0.5,\n",
    "        'model_type': 'lstm',\n",
    "        'optimizer_type': 'adam',\n",
    "        'use_class_weights': False,\n",
    "        'train': True\n",
    "    },\n",
    "    {\n",
    "        'n_hidden_cells': 128, \n",
    "        'learning_rate': 0.005, \n",
    "        'alpha': 0.5, \n",
    "        'min_epoch_amount': 20,\n",
    "        'batch_size': 250,\n",
    "        'dropout_chance': 0.5,\n",
    "        'model_type': 'rnn',\n",
    "        'optimizer_type': 'adam',\n",
    "        'use_class_weights': False,\n",
    "        'train': True\n",
    "    }\n",
    "]"
   ]
  },
  {
   "cell_type": "code",
   "execution_count": 3,
   "metadata": {
    "collapsed": true
   },
   "outputs": [
    {
     "name": "stdout",
     "output_type": "stream",
     "text": [
      "Training:   34500 vectors\nTesting:    9500 vectors\nValidation: 5500 vectors\n"
     ]
    },
    {
     "name": "stdout",
     "output_type": "stream",
     "text": [
      "Shape X_test: (2500, 25, 423)\nShape Y_test: (2500, 7172)\nShape X_valid: (2500, 25, 423)\nShape Y_valid: (2500, 7172)\n"
     ]
    },
    {
     "name": "stdout",
     "output_type": "stream",
     "text": [
      "25\n423\n7172\n[1024, 1024]\n"
     ]
    },
    {
     "name": "stdout",
     "output_type": "stream",
     "text": [
      "\nEpoch number 1\n\nBatch number 1\n"
     ]
    },
    {
     "name": "stdout",
     "output_type": "stream",
     "text": [
      "\nTesting after epoch: \n"
     ]
    },
    {
     "name": "stdout",
     "output_type": "stream",
     "text": [
      "4 : 2827\n7 : 2730\n6 : 2703\n8 : 2711\n9 : 2638\n5 : 2762\n3 : 2632\n11 : 2708\n9 : 2643\n13 : 2724\n7 : 2683\n17 : 2862\n8 : 2807\n8 : 2677\n5 : 2766\n12 : 2740\n10 : 2670\n14 : 2933\n7 : 2807\n17 : 2846\n11 : 2878\n8 : 2843\n6 : 2699\n5 : 2735\n10 : 2838\n6 : 2722\n6 : 2660\n14 : 2907\n17 : 2733\n6 : 2917\n13 : 2690\n8 : 2647\n9 : 2635\n9 : 2659\n6 : 2783\n11 : 2715\n3 : 2752\n9 : 2740\n9 : 2668\n5 : 2950\n10 : 2630\n9 : 2741\n5 : 2678\n8 : 2656\n5 : 2655\n13 : 2721\n9 : 2697\n6 : 2804\n11 : 2708\n10 : 2670\n"
     ]
    },
    {
     "name": "stdout",
     "output_type": "stream",
     "text": [
      "F1 Score:  0.0025177815859852523\n\nEpoch number 2\n\nBatch number 1\n"
     ]
    },
    {
     "name": "stdout",
     "output_type": "stream",
     "text": [
      "\nTesting after epoch: \n"
     ]
    },
    {
     "name": "stdout",
     "output_type": "stream",
     "text": [
      "4 : 1829\n7 : 1822\n6 : 1812\n8 : 1818\n9 : 1822\n5 : 1825\n3 : 1810\n11 : 1819\n9 : 1832\n13 : 1824\n7 : 1821\n17 : 1820\n8 : 1827\n8 : 1821\n5 : 1808\n12 : 1821\n10 : 1814\n14 : 1843\n7 : 1845\n17 : 1825\n11 : 1820\n8 : 1833\n6 : 1824\n5 : 1843\n10 : 1838\n6 : 1832\n6 : 1823\n14 : 1839\n17 : 1831\n6 : 1833\n13 : 1818\n8 : 1830\n9 : 1832\n9 : 1829\n6 : 1841\n11 : 1835\n3 : 1821\n9 : 1820\n9 : 1805\n5 : 1833\n10 : 1835\n9 : 1835\n5 : 1818\n8 : 1833\n5 : 1828\n13 : 1817\n9 : 1821\n6 : 1827\n11 : 1807\n10 : 1820\n"
     ]
    },
    {
     "name": "stdout",
     "output_type": "stream",
     "text": [
      "F1 Score:  0.002473880368958798\n\nEpoch number 3\n\nBatch number 1\n"
     ]
    },
    {
     "name": "stdout",
     "output_type": "stream",
     "text": [
      "\nTesting after epoch: \n"
     ]
    },
    {
     "name": "stdout",
     "output_type": "stream",
     "text": [
      "4 : 1256\n7 : 1260\n6 : 1257\n8 : 1262\n9 : 1283\n5 : 1252\n3 : 1288\n11 : 1253\n9 : 1275\n13 : 1258\n7 : 1263\n17 : 1252\n8 : 1253\n8 : 1252\n5 : 1258\n12 : 1254\n10 : 1259\n14 : 1257\n7 : 1253\n17 : 1257\n11 : 1249\n8 : 1255\n6 : 1255\n5 : 1255\n10 : 1250\n6 : 1264\n6 : 1260\n14 : 1248\n17 : 1260\n6 : 1258\n13 : 1260\n8 : 1273\n9 : 1272\n9 : 1272\n6 : 1245\n11 : 1260\n3 : 1257\n9 : 1259\n9 : 1254\n5 : 1258\n10 : 1268\n9 : 1256\n5 : 1258\n8 : 1264\n5 : 1272\n13 : 1259\n9 : 1263\n6 : 1254\n11 : 1253\n10 : 1263\n"
     ]
    },
    {
     "name": "stdout",
     "output_type": "stream",
     "text": [
      "F1 Score:  0.0025209816464232225\n\nEpoch number 4\n\nBatch number 1\n"
     ]
    },
    {
     "name": "stdout",
     "output_type": "stream",
     "text": [
      "\nTesting after epoch: \n"
     ]
    },
    {
     "name": "stdout",
     "output_type": "stream",
     "text": [
      "4 : 829\n7 : 831\n6 : 827\n8 : 832\n9 : 840\n5 : 833\n3 : 841\n11 : 827\n9 : 837\n13 : 829\n7 : 829\n17 : 832\n8 : 830\n8 : 828\n5 : 830\n12 : 830\n10 : 831\n14 : 827\n7 : 831\n17 : 829\n11 : 828\n8 : 831\n6 : 831\n5 : 829\n10 : 827\n6 : 829\n6 : 830\n14 : 830\n17 : 832\n6 : 832\n13 : 835\n8 : 837\n9 : 834\n9 : 832\n6 : 829\n11 : 829\n3 : 831\n9 : 830\n9 : 830\n5 : 830\n10 : 833\n9 : 828\n5 : 829\n8 : 829\n5 : 833\n13 : 829\n9 : 830\n6 : 830\n11 : 831\n10 : 830\n"
     ]
    },
    {
     "name": "stdout",
     "output_type": "stream",
     "text": [
      "F1 Score:  0.0018191731526087803\n\nEpoch number 5\n\nBatch number 1\n"
     ]
    },
    {
     "name": "stdout",
     "output_type": "stream",
     "text": [
      "\nTesting after epoch: \n"
     ]
    },
    {
     "name": "stdout",
     "output_type": "stream",
     "text": [
      "4 : 466\n7 : 469\n6 : 469\n8 : 471\n9 : 475\n5 : 469\n3 : 478\n11 : 468\n9 : 470\n13 : 467\n7 : 472\n17 : 470\n8 : 469\n8 : 467\n5 : 474\n12 : 467\n10 : 471\n14 : 467\n7 : 468\n17 : 469\n11 : 470\n8 : 465\n6 : 467\n5 : 467\n10 : 466\n6 : 467\n6 : 474\n14 : 466\n17 : 468\n6 : 469\n13 : 472\n8 : 472\n9 : 470\n9 : 473\n6 : 469\n11 : 469\n3 : 469\n9 : 470\n9 : 471\n5 : 469\n10 : 471\n9 : 466\n5 : 470\n8 : 470\n5 : 473\n13 : 467\n9 : 471\n6 : 467\n11 : 467\n10 : 467\nF1 Score:  0.0019118966331681986\n\nEpoch number 6\n\nBatch number 1\n"
     ]
    },
    {
     "name": "stdout",
     "output_type": "stream",
     "text": [
      "\nTesting after epoch: \n"
     ]
    },
    {
     "name": "stdout",
     "output_type": "stream",
     "text": [
      "4 : 249\n7 : 248\n6 : 248\n8 : 248\n9 : 248\n5 : 249\n3 : 250\n11 : 248\n9 : 247\n13 : 248\n7 : 247\n17 : 250\n8 : 250\n8 : 248\n5 : 247\n12 : 248\n10 : 248\n14 : 249\n7 : 248\n17 : 248\n11 : 249\n8 : 249\n6 : 248\n5 : 247\n10 : 249\n6 : 248\n6 : 248\n14 : 250\n17 : 249\n6 : 249\n13 : 247\n8 : 247\n9 : 247\n9 : 248\n6 : 248\n11 : 248\n3 : 249\n9 : 249\n9 : 248\n5 : 251\n10 : 246\n9 : 249\n5 : 249\n8 : 247\n5 : 248\n13 : 248\n9 : 249\n6 : 248\n11 : 249\n10 : 248\nF1 Score:  0.0018825581643111366\n\nEpoch number 7\n\nBatch number 1\n"
     ]
    },
    {
     "name": "stdout",
     "output_type": "stream",
     "text": [
      "\nTesting after epoch: \n"
     ]
    },
    {
     "name": "stdout",
     "output_type": "stream",
     "text": [
      "4 : 123\n7 : 123\n6 : 123\n8 : 123\n9 : 123\n5 : 123\n3 : 123\n11 : 123\n9 : 123\n13 : 123\n7 : 124\n17 : 123\n8 : 123\n8 : 123\n5 : 124\n12 : 122\n10 : 123\n14 : 123\n7 : 123\n17 : 122\n11 : 123\n8 : 123\n6 : 123\n5 : 123\n10 : 122\n6 : 123\n6 : 123\n14 : 122\n17 : 123\n6 : 123\n13 : 123\n8 : 123\n9 : 124\n9 : 123\n6 : 122\n11 : 123\n3 : 123\n9 : 123\n9 : 123\n5 : 123\n10 : 124\n9 : 122\n5 : 123\n8 : 124\n5 : 123\n13 : 123\n9 : 123\n6 : 122\n11 : 123\n10 : 123\nF1 Score:  0.0024879102600687602\n\nEpoch number 8\n\nBatch number 1\n"
     ]
    },
    {
     "name": "stdout",
     "output_type": "stream",
     "text": [
      "\nTesting after epoch: \n"
     ]
    },
    {
     "name": "stdout",
     "output_type": "stream",
     "text": [
      "4 : 46\n7 : 46\n6 : 46\n8 : 45\n9 : 44\n5 : 46\n3 : 44\n11 : 46\n9 : 45\n13 : 46\n7 : 45\n17 : 46\n8 : 46\n8 : 45\n5 : 45\n12 : 45\n10 : 45\n14 : 45\n7 : 45\n17 : 45\n11 : 46\n8 : 45\n6 : 46\n5 : 45\n10 : 45\n6 : 46\n6 : 45\n14 : 45\n17 : 46\n6 : 46\n13 : 45\n8 : 45\n9 : 44\n9 : 44\n6 : 45\n11 : 46\n3 : 46\n9 : 46\n9 : 45\n5 : 46\n10 : 44\n9 : 45\n5 : 46\n8 : 44\n5 : 45\n13 : 46\n9 : 45\n6 : 45\n11 : 46\n10 : 46\nF1 Score:  0.003782173531279831\n\nEpoch number 9\n\nBatch number 1\n"
     ]
    },
    {
     "name": "stdout",
     "output_type": "stream",
     "text": [
      "\nTesting after epoch: \n"
     ]
    },
    {
     "name": "stdout",
     "output_type": "stream",
     "text": [
      "4 : 16\n7 : 16\n6 : 16\n8 : 16\n9 : 17\n5 : 16\n3 : 16\n11 : 16\n9 : 17\n13 : 16\n7 : 16\n17 : 16\n8 : 16\n8 : 16\n5 : 17\n12 : 16\n10 : 16\n14 : 16\n7 : 16\n17 : 16\n11 : 16\n8 : 16\n6 : 16\n5 : 16\n10 : 16\n6 : 16\n6 : 16\n14 : 16\n17 : 16\n6 : 16\n13 : 17\n8 : 17\n9 : 16\n9 : 16\n6 : 16\n11 : 16\n3 : 16\n9 : 16\n9 : 16\n5 : 16\n10 : 16\n9 : 16\n5 : 16\n8 : 16\n5 : 16\n13 : 16\n9 : 16\n6 : 16\n11 : 16\n10 : 16\nF1 Score:  0.0027069872663040046\n\nEpoch number 10\n\nBatch number 1\n"
     ]
    },
    {
     "name": "stdout",
     "output_type": "stream",
     "text": [
      "\nTesting after epoch: \n"
     ]
    },
    {
     "name": "stdout",
     "output_type": "stream",
     "text": [
      "4 : 4\n7 : 4\n6 : 4\n8 : 4\n9 : 4\n5 : 4\n3 : 4\n11 : 4\n9 : 4\n13 : 4\n7 : 4\n17 : 4\n8 : 4\n8 : 4\n5 : 4\n12 : 4\n10 : 4\n14 : 4\n7 : 4\n17 : 4\n11 : 4\n8 : 4\n6 : 4\n5 : 4\n10 : 4\n6 : 4\n6 : 4\n14 : 4\n17 : 4\n6 : 4\n13 : 4\n8 : 4\n9 : 4\n9 : 4\n6 : 4\n11 : 4\n3 : 4\n9 : 4\n9 : 4\n5 : 4\n10 : 4\n9 : 4\n5 : 4\n8 : 4\n5 : 4\n13 : 4\n9 : 4\n6 : 4\n11 : 4\n10 : 4\nF1 Score:  0.0\n\nEpoch number 11\n\nBatch number 1\n"
     ]
    },
    {
     "name": "stdout",
     "output_type": "stream",
     "text": [
      "\nTesting after epoch: \n"
     ]
    },
    {
     "name": "stdout",
     "output_type": "stream",
     "text": [
      "4 : 2\n7 : 2\n6 : 2\n8 : 2\n9 : 2\n5 : 2\n3 : 2\n11 : 2\n9 : 2\n13 : 2\n7 : 2\n17 : 2\n8 : 2\n8 : 2\n5 : 2\n12 : 2\n10 : 2\n14 : 2\n7 : 2\n17 : 2\n11 : 2\n8 : 2\n6 : 2\n5 : 2\n10 : 2\n6 : 2\n6 : 2\n14 : 2\n17 : 2\n6 : 2\n13 : 2\n8 : 2\n9 : 2\n9 : 2\n6 : 2\n11 : 2\n3 : 2\n9 : 2\n9 : 2\n5 : 2\n10 : 2\n9 : 2\n5 : 2\n8 : 2\n5 : 2\n13 : 2\n9 : 2\n6 : 2\n11 : 2\n10 : 2\nF1 Score:  0.0\n\nEpoch number 12\n\nBatch number 1\n"
     ]
    },
    {
     "name": "stdout",
     "output_type": "stream",
     "text": [
      "\nTesting after epoch: \n"
     ]
    },
    {
     "name": "stdout",
     "output_type": "stream",
     "text": [
      "4 : 0\n7 : 0\n6 : 0\n8 : 0\n9 : 0\n5 : 0\n3 : 0\n11 : 0\n9 : 0\n13 : 0\n7 : 0\n17 : 0\n8 : 0\n8 : 0\n5 : 0\n12 : 0\n10 : 0\n14 : 0\n7 : 0\n17 : 0\n11 : 0\n8 : 0\n6 : 0\n5 : 0\n10 : 0\n6 : 0\n6 : 0\n14 : 0\n17 : 0\n6 : 0\n13 : 0\n8 : 0\n9 : 0\n9 : 0\n6 : 0\n11 : 0\n3 : 0\n9 : 0\n9 : 0\n5 : 0\n10 : 0\n9 : 0\n5 : 0\n8 : 0\n5 : 0\n13 : 0\n9 : 0\n6 : 0\n11 : 0\n10 : 0\nF1 Score:  0.0\n\nEpoch number 13\n\nBatch number 1\n"
     ]
    },
    {
     "name": "stdout",
     "output_type": "stream",
     "text": [
      "\nTesting after epoch: \n"
     ]
    },
    {
     "ename": "KeyboardInterrupt",
     "evalue": "",
     "traceback": [
      "\u001b[0;31m---------------------------------------------------------------------------\u001b[0m",
      "\u001b[0;31mKeyboardInterrupt\u001b[0m                         Traceback (most recent call last)",
      "\u001b[0;32m<ipython-input-3-ddca829c5803>\u001b[0m in \u001b[0;36m<module>\u001b[0;34m()\u001b[0m\n\u001b[0;32m----> 1\u001b[0;31m \u001b[0mlstm\u001b[0m\u001b[0;34m.\u001b[0m\u001b[0mrun_thesis\u001b[0m\u001b[0;34m(\u001b[0m\u001b[0;34m)\u001b[0m\u001b[0;34m\u001b[0m\u001b[0m\n\u001b[0m",
      "\u001b[0;32m~/PycharmProjects/DiplomaThesis/lstm.py\u001b[0m in \u001b[0;36mrun_thesis\u001b[0;34m()\u001b[0m\n\u001b[1;32m    234\u001b[0m             \u001b[0;32mfor\u001b[0m \u001b[0mprediction\u001b[0m \u001b[0;32min\u001b[0m \u001b[0my_predictions\u001b[0m\u001b[0;34m:\u001b[0m\u001b[0;34m\u001b[0m\u001b[0m\n\u001b[1;32m    235\u001b[0m                 rounded_predictions.append(\n\u001b[0;32m--> 236\u001b[0;31m                     \u001b[0;34m[\u001b[0m\u001b[0mint\u001b[0m\u001b[0;34m(\u001b[0m\u001b[0mnp\u001b[0m\u001b[0;34m.\u001b[0m\u001b[0mround\u001b[0m\u001b[0;34m(\u001b[0m\u001b[0mtarget\u001b[0m\u001b[0;34m)\u001b[0m\u001b[0;34m)\u001b[0m \u001b[0;32mfor\u001b[0m \u001b[0mtarget\u001b[0m \u001b[0;32min\u001b[0m \u001b[0mprediction\u001b[0m\u001b[0;34m]\u001b[0m\u001b[0;34m\u001b[0m\u001b[0m\n\u001b[0m\u001b[1;32m    237\u001b[0m                 )\n\u001b[1;32m    238\u001b[0m \u001b[0;34m\u001b[0m\u001b[0m\n",
      "\u001b[0;32m~/PycharmProjects/DiplomaThesis/lstm.py\u001b[0m in \u001b[0;36m<listcomp>\u001b[0;34m(.0)\u001b[0m\n\u001b[1;32m    234\u001b[0m             \u001b[0;32mfor\u001b[0m \u001b[0mprediction\u001b[0m \u001b[0;32min\u001b[0m \u001b[0my_predictions\u001b[0m\u001b[0;34m:\u001b[0m\u001b[0;34m\u001b[0m\u001b[0m\n\u001b[1;32m    235\u001b[0m                 rounded_predictions.append(\n\u001b[0;32m--> 236\u001b[0;31m                     \u001b[0;34m[\u001b[0m\u001b[0mint\u001b[0m\u001b[0;34m(\u001b[0m\u001b[0mnp\u001b[0m\u001b[0;34m.\u001b[0m\u001b[0mround\u001b[0m\u001b[0;34m(\u001b[0m\u001b[0mtarget\u001b[0m\u001b[0;34m)\u001b[0m\u001b[0;34m)\u001b[0m \u001b[0;32mfor\u001b[0m \u001b[0mtarget\u001b[0m \u001b[0;32min\u001b[0m \u001b[0mprediction\u001b[0m\u001b[0;34m]\u001b[0m\u001b[0;34m\u001b[0m\u001b[0m\n\u001b[0m\u001b[1;32m    237\u001b[0m                 )\n\u001b[1;32m    238\u001b[0m \u001b[0;34m\u001b[0m\u001b[0m\n",
      "\u001b[0;32m/usr/local/Cellar/python3/3.6.4_2/Frameworks/Python.framework/Versions/3.6/lib/python3.6/site-packages/numpy/core/fromnumeric.py\u001b[0m in \u001b[0;36mround_\u001b[0;34m(a, decimals, out)\u001b[0m\n\u001b[1;32m   2849\u001b[0m \u001b[0;34m\u001b[0m\u001b[0m\n\u001b[1;32m   2850\u001b[0m     \"\"\"\n\u001b[0;32m-> 2851\u001b[0;31m     \u001b[0;32mreturn\u001b[0m \u001b[0maround\u001b[0m\u001b[0;34m(\u001b[0m\u001b[0ma\u001b[0m\u001b[0;34m,\u001b[0m \u001b[0mdecimals\u001b[0m\u001b[0;34m=\u001b[0m\u001b[0mdecimals\u001b[0m\u001b[0;34m,\u001b[0m \u001b[0mout\u001b[0m\u001b[0;34m=\u001b[0m\u001b[0mout\u001b[0m\u001b[0;34m)\u001b[0m\u001b[0;34m\u001b[0m\u001b[0m\n\u001b[0m\u001b[1;32m   2852\u001b[0m \u001b[0;34m\u001b[0m\u001b[0m\n\u001b[1;32m   2853\u001b[0m \u001b[0;34m\u001b[0m\u001b[0m\n",
      "\u001b[0;32m/usr/local/Cellar/python3/3.6.4_2/Frameworks/Python.framework/Versions/3.6/lib/python3.6/site-packages/numpy/core/fromnumeric.py\u001b[0m in \u001b[0;36maround\u001b[0;34m(a, decimals, out)\u001b[0m\n\u001b[1;32m   2835\u001b[0m \u001b[0;34m\u001b[0m\u001b[0m\n\u001b[1;32m   2836\u001b[0m     \"\"\"\n\u001b[0;32m-> 2837\u001b[0;31m     \u001b[0;32mreturn\u001b[0m \u001b[0m_wrapfunc\u001b[0m\u001b[0;34m(\u001b[0m\u001b[0ma\u001b[0m\u001b[0;34m,\u001b[0m \u001b[0;34m'round'\u001b[0m\u001b[0;34m,\u001b[0m \u001b[0mdecimals\u001b[0m\u001b[0;34m=\u001b[0m\u001b[0mdecimals\u001b[0m\u001b[0;34m,\u001b[0m \u001b[0mout\u001b[0m\u001b[0;34m=\u001b[0m\u001b[0mout\u001b[0m\u001b[0;34m)\u001b[0m\u001b[0;34m\u001b[0m\u001b[0m\n\u001b[0m\u001b[1;32m   2838\u001b[0m \u001b[0;34m\u001b[0m\u001b[0m\n\u001b[1;32m   2839\u001b[0m \u001b[0;34m\u001b[0m\u001b[0m\n",
      "\u001b[0;32m/usr/local/Cellar/python3/3.6.4_2/Frameworks/Python.framework/Versions/3.6/lib/python3.6/site-packages/numpy/core/fromnumeric.py\u001b[0m in \u001b[0;36m_wrapfunc\u001b[0;34m(obj, method, *args, **kwds)\u001b[0m\n\u001b[1;32m     50\u001b[0m \u001b[0;32mdef\u001b[0m \u001b[0m_wrapfunc\u001b[0m\u001b[0;34m(\u001b[0m\u001b[0mobj\u001b[0m\u001b[0;34m,\u001b[0m \u001b[0mmethod\u001b[0m\u001b[0;34m,\u001b[0m \u001b[0;34m*\u001b[0m\u001b[0margs\u001b[0m\u001b[0;34m,\u001b[0m \u001b[0;34m**\u001b[0m\u001b[0mkwds\u001b[0m\u001b[0;34m)\u001b[0m\u001b[0;34m:\u001b[0m\u001b[0;34m\u001b[0m\u001b[0m\n\u001b[1;32m     51\u001b[0m     \u001b[0;32mtry\u001b[0m\u001b[0;34m:\u001b[0m\u001b[0;34m\u001b[0m\u001b[0m\n\u001b[0;32m---> 52\u001b[0;31m         \u001b[0;32mreturn\u001b[0m \u001b[0mgetattr\u001b[0m\u001b[0;34m(\u001b[0m\u001b[0mobj\u001b[0m\u001b[0;34m,\u001b[0m \u001b[0mmethod\u001b[0m\u001b[0;34m)\u001b[0m\u001b[0;34m(\u001b[0m\u001b[0;34m*\u001b[0m\u001b[0margs\u001b[0m\u001b[0;34m,\u001b[0m \u001b[0;34m**\u001b[0m\u001b[0mkwds\u001b[0m\u001b[0;34m)\u001b[0m\u001b[0;34m\u001b[0m\u001b[0m\n\u001b[0m\u001b[1;32m     53\u001b[0m \u001b[0;34m\u001b[0m\u001b[0m\n\u001b[1;32m     54\u001b[0m     \u001b[0;31m# An AttributeError occurs if the object does not have\u001b[0m\u001b[0;34m\u001b[0m\u001b[0;34m\u001b[0m\u001b[0m\n",
      "\u001b[0;31mKeyboardInterrupt\u001b[0m: "
     ],
     "output_type": "error"
    }
   ],
   "source": [
    "for run in executions:\n",
    "    \n",
    "    tf.reset_default_graph()\n",
    "    \n",
    "    lstm.run_training(\n",
    "        dataset=dataset,\n",
    "        n_hidden_cells=run['n_hidden_cells'], \n",
    "        learning_rate=run['learning_rate'], \n",
    "        alpha=run['alpha'], \n",
    "        min_epoch_amount=run['min_epoch_amount'],\n",
    "        batch_size=run['batch_size'],\n",
    "        dropout_chance=run['dropout_chance'],\n",
    "        model_type=run['model_type'],\n",
    "        optimizer_type=run['optimizer_type'],\n",
    "        use_class_weights=run['use_class_weights'],\n",
    "        train=run['train']\n",
    "    )"
   ]
  }
 ],
 "metadata": {
  "kernelspec": {
   "display_name": "Python 2",
   "language": "python",
   "name": "python2"
  },
  "language_info": {
   "codemirror_mode": {
    "name": "ipython",
    "version": 2
   },
   "file_extension": ".py",
   "mimetype": "text/x-python",
   "name": "python",
   "nbconvert_exporter": "python",
   "pygments_lexer": "ipython2",
   "version": "2.7.6"
  }
 },
 "nbformat": 4,
 "nbformat_minor": 0
}
